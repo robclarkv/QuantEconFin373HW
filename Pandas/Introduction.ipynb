{
 "cells": [
  {
   "attachments": {},
   "cell_type": "markdown",
   "metadata": {},
   "source": [
    "Exercise 1"
   ]
  },
  {
   "attachments": {},
   "cell_type": "markdown",
   "metadata": {},
   "source": [
    "For each of the following exercises, we recommend reading the documentation for help.\n",
    "\n",
    "Display only the first 2 elements of the Series using the .head method.\n",
    "\n",
    "Using the plot method, make a bar plot.\n",
    "\n",
    "Use .loc to select the lowest/highest unemployment rate shown in the Series.\n",
    "\n",
    "Run the code unemp.dtype below. What does it give you? Where do you think it comes from?"
   ]
  },
  {
   "cell_type": "code",
   "execution_count": null,
   "metadata": {
    "vscode": {
     "languageId": "plaintext"
    }
   },
   "outputs": [],
   "source": [
    "import pandas as pd\n",
    "\n",
    "%matplotlib inline"
   ]
  },
  {
   "cell_type": "code",
   "execution_count": null,
   "metadata": {
    "vscode": {
     "languageId": "plaintext"
    }
   },
   "outputs": [],
   "source": [
    "values = [5.6, 5.3, 4.3, 4.2, 5.8, 5.3, 4.6, 7.8, 9.1, 8., 5.7]\n",
    "years = list(range(1995, 2017, 2))\n",
    "\n",
    "unemp = pd.Series(data=values, index=years, name=\"Unemployment\")\n",
    "unemp"
   ]
  },
  {
   "cell_type": "code",
   "execution_count": null,
   "metadata": {
    "vscode": {
     "languageId": "plaintext"
    }
   },
   "outputs": [],
   "source": [
    "# Display only the first 2 elements of the Series\n",
    "# using the .head method.\n",
    "unemp.head(2)"
   ]
  },
  {
   "cell_type": "code",
   "execution_count": null,
   "metadata": {
    "vscode": {
     "languageId": "plaintext"
    }
   },
   "outputs": [],
   "source": [
    "# Using the plot method, make a bar plot.\n",
    "\n",
    "unemp.plot.bar()"
   ]
  },
  {
   "cell_type": "code",
   "execution_count": null,
   "metadata": {
    "vscode": {
     "languageId": "plaintext"
    }
   },
   "outputs": [],
   "source": [
    "# Use .loc to select the lowest/highest unemployment rate shown in the Series.\n",
    "\n",
    "unemp.loc[2001]"
   ]
  },
  {
   "cell_type": "code",
   "execution_count": null,
   "metadata": {
    "vscode": {
     "languageId": "plaintext"
    }
   },
   "outputs": [],
   "source": [
    "unemp.loc[2011]"
   ]
  },
  {
   "cell_type": "code",
   "execution_count": null,
   "metadata": {
    "vscode": {
     "languageId": "plaintext"
    }
   },
   "outputs": [],
   "source": [
    "# Run the code unemp.dtype below. What does it give you?\n",
    "# Where do you think it comes from?\n",
    "unemp.dtype"
   ]
  },
  {
   "attachments": {},
   "cell_type": "markdown",
   "metadata": {},
   "source": [
    "Exercise 2 "
   ]
  },
  {
   "attachments": {},
   "cell_type": "markdown",
   "metadata": {},
   "source": [
    "Use introspection (or google-fu) to find a way to obtain a list with all of the column names in unemp_region.\n",
    "\n",
    "Using the plot method, make a bar plot. What does it look like now?\n",
    "\n",
    "Use .loc to select the the unemployment data for the NorthEast and West for the years 1995, 2005, 2011, and 2015.\n",
    "\n",
    "Run the code unemp_region.dtypes below. What does it give you? How does this compare with unemp.dtype?"
   ]
  },
  {
   "cell_type": "code",
   "execution_count": null,
   "metadata": {
    "vscode": {
     "languageId": "plaintext"
    }
   },
   "outputs": [],
   "source": [
    "data = {\n",
    "    \"NorthEast\": [5.9,  5.6,  4.4,  3.8,  5.8,  4.9,  4.3,  7.1,  8.3,  7.9,  5.7],\n",
    "    \"MidWest\": [4.5,  4.3,  3.6,  4. ,  5.7,  5.7,  4.9,  8.1,  8.7,  7.4,  5.1],\n",
    "    \"South\": [5.3,  5.2,  4.2,  4. ,  5.7,  5.2,  4.3,  7.6,  9.1,  7.4,  5.5],\n",
    "    \"West\": [6.6, 6., 5.2, 4.6, 6.5, 5.5, 4.5, 8.6, 10.7, 8.5, 6.1],\n",
    "    \"National\": [5.6, 5.3, 4.3, 4.2, 5.8, 5.3, 4.6, 7.8, 9.1, 8., 5.7]\n",
    "}\n",
    "\n",
    "unemp_region = pd.DataFrame(data, index=years)\n",
    "unemp_region"
   ]
  },
  {
   "cell_type": "code",
   "execution_count": null,
   "metadata": {
    "vscode": {
     "languageId": "plaintext"
    }
   },
   "outputs": [],
   "source": [
    "# Insructions: Use introspection (or google-fu) to find a way\n",
    "# to obtain a list with all of the column names in unemp_region.\n",
    "\n",
    "\n",
    "column_names = unemp_region.columns.tolist()\n",
    "column_names"
   ]
  },
  {
   "cell_type": "code",
   "execution_count": null,
   "metadata": {
    "vscode": {
     "languageId": "plaintext"
    }
   },
   "outputs": [],
   "source": [
    "# Insructions: Using the plot method, make a bar plot. What does it look like now?\n",
    "\n",
    "\n",
    "unemp_region.plot.bar()"
   ]
  },
  {
   "cell_type": "code",
   "execution_count": null,
   "metadata": {
    "vscode": {
     "languageId": "plaintext"
    }
   },
   "outputs": [],
   "source": [
    "# Insructions: Use .loc to select the the unemployment data for the NorthEast and West\n",
    "# for the years 1995, 2005, 2011, and 2015.\n",
    "\n",
    "unemp_region.loc[[1995, 2005, 2011, 2015],['NorthEast', 'West']]"
   ]
  },
  {
   "cell_type": "code",
   "execution_count": null,
   "metadata": {
    "vscode": {
     "languageId": "plaintext"
    }
   },
   "outputs": [],
   "source": [
    "# Insructions: Run the code unemp_region.dtypes below. \n",
    "# What does it give you? How does this compare with unemp.dtype?\n",
    "print(\"unemp_region.dtypes\\n\",unemp_region.dtypes)\n",
    "print(\"unemp.dtype\",unemp.dtype)"
   ]
  },
  {
   "attachments": {},
   "cell_type": "markdown",
   "metadata": {},
   "source": [
    "The difference is unemp is a pd.series and gives us only tyoe of one series.\n",
    "\n",
    "From the other side, unemp_region is pd.df and gives us the types of each columns."
   ]
  }
 ],
 "metadata": {
  "language_info": {
   "name": "python"
  },
  "orig_nbformat": 4
 },
 "nbformat": 4,
 "nbformat_minor": 2
}
