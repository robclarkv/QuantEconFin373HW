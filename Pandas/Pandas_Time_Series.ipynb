{
  "nbformat": 4,
  "nbformat_minor": 0,
  "metadata": {
    "colab": {
      "provenance": []
    },
    "kernelspec": {
      "name": "python3",
      "display_name": "Python 3"
    },
    "language_info": {
      "name": "python"
    }
  },
  "cells": [
    {
      "cell_type": "code",
      "source": [
        "!pip install quandl"
      ],
      "metadata": {
        "colab": {
          "base_uri": "https://localhost:8080/"
        },
        "id": "QJ7vnybEBV4Q",
        "outputId": "67008281-7e79-43ec-ae67-9542dc03beea"
      },
      "execution_count": 2,
      "outputs": [
        {
          "output_type": "stream",
          "name": "stdout",
          "text": [
            "Looking in indexes: https://pypi.org/simple, https://us-python.pkg.dev/colab-wheels/public/simple/\n",
            "Collecting quandl\n",
            "  Downloading Quandl-3.7.0-py2.py3-none-any.whl (26 kB)\n",
            "Requirement already satisfied: six in /usr/local/lib/python3.8/dist-packages (from quandl) (1.15.0)\n",
            "Requirement already satisfied: more-itertools in /usr/local/lib/python3.8/dist-packages (from quandl) (9.0.0)\n",
            "Requirement already satisfied: pandas>=0.14 in /usr/local/lib/python3.8/dist-packages (from quandl) (1.3.5)\n",
            "Requirement already satisfied: requests>=2.7.0 in /usr/local/lib/python3.8/dist-packages (from quandl) (2.25.1)\n",
            "Collecting inflection>=0.3.1\n",
            "  Downloading inflection-0.5.1-py2.py3-none-any.whl (9.5 kB)\n",
            "Requirement already satisfied: numpy>=1.8 in /usr/local/lib/python3.8/dist-packages (from quandl) (1.22.4)\n",
            "Requirement already satisfied: python-dateutil in /usr/local/lib/python3.8/dist-packages (from quandl) (2.8.2)\n",
            "Requirement already satisfied: pytz>=2017.3 in /usr/local/lib/python3.8/dist-packages (from pandas>=0.14->quandl) (2022.7.1)\n",
            "Requirement already satisfied: idna<3,>=2.5 in /usr/local/lib/python3.8/dist-packages (from requests>=2.7.0->quandl) (2.10)\n",
            "Requirement already satisfied: urllib3<1.27,>=1.21.1 in /usr/local/lib/python3.8/dist-packages (from requests>=2.7.0->quandl) (1.24.3)\n",
            "Requirement already satisfied: chardet<5,>=3.0.2 in /usr/local/lib/python3.8/dist-packages (from requests>=2.7.0->quandl) (4.0.0)\n",
            "Requirement already satisfied: certifi>=2017.4.17 in /usr/local/lib/python3.8/dist-packages (from requests>=2.7.0->quandl) (2022.12.7)\n",
            "Installing collected packages: inflection, quandl\n",
            "Successfully installed inflection-0.5.1 quandl-3.7.0\n"
          ]
        }
      ]
    },
    {
      "cell_type": "code",
      "execution_count": 3,
      "metadata": {
        "id": "J-3to71j6ym-"
      },
      "outputs": [],
      "source": [
        "import os\n",
        "import pandas as pd\n",
        "import matplotlib.pyplot as plt\n",
        "import quandl\n",
        "\n",
        "# see section on API keys at end of lecture!\n",
        "quandl.ApiConfig.api_key = os.environ.get(\"QUANDL_AUTH\", \"Dn6BtVoBhzuKTuyo6hbp\")\n",
        "start_date = \"2014-05-01\"\n",
        "\n",
        "%matplotlib inline"
      ]
    },
    {
      "cell_type": "markdown",
      "source": [
        "## Exercise 1\n",
        "By referring to table found at the link above, figure out the correct argument to pass as format in order to parse the dates in the next three cells below.\n",
        "\n",
        "Test your work by passing your format string to pd.to_datetime."
      ],
      "metadata": {
        "id": "LUiOpvrR7A28"
      }
    },
    {
      "cell_type": "code",
      "source": [
        "christmas_str2 = \"2017:12:25\"\n",
        "christmas_strftime = \"%Y:%m:%d\"\n",
        "\n",
        "pd.to_datetime(christmas_str2, format=christmas_strftime)\n"
      ],
      "metadata": {
        "colab": {
          "base_uri": "https://localhost:8080/"
        },
        "id": "1y7KtQyNBxFP",
        "outputId": "3141faa7-6a7d-4543-a4df-ff6fbb603a9e"
      },
      "execution_count": 4,
      "outputs": [
        {
          "output_type": "execute_result",
          "data": {
            "text/plain": [
              "Timestamp('2017-12-25 00:00:00')"
            ]
          },
          "metadata": {},
          "execution_count": 4
        }
      ]
    },
    {
      "cell_type": "code",
      "source": [
        "dbacks_win = \"M:11 D:4 Y:2001 9:15 PM\"\n",
        "dbacks_win_strftime = \"M:%m D:%d Y:%Y %I:%M %p\"\n",
        "pd.to_datetime(dbacks_win, format=dbacks_win_strftime)"
      ],
      "metadata": {
        "colab": {
          "base_uri": "https://localhost:8080/"
        },
        "id": "_Lk75CNiBxJt",
        "outputId": "060f7a5b-cc8d-45cc-a9e6-1fe7f5ae23d0"
      },
      "execution_count": 5,
      "outputs": [
        {
          "output_type": "execute_result",
          "data": {
            "text/plain": [
              "Timestamp('2001-11-04 21:15:00')"
            ]
          },
          "metadata": {},
          "execution_count": 5
        }
      ]
    },
    {
      "cell_type": "code",
      "source": [
        "america_bday = \"America was born on July 4, 1776\"\n",
        "christmas_strftime = \" %B %d, %Y\"\n",
        "\n",
        "pd.to_datetime(america_bday.split(\"on\")[1], format=christmas_strftime)"
      ],
      "metadata": {
        "colab": {
          "base_uri": "https://localhost:8080/"
        },
        "id": "7y3D0UzJBxMr",
        "outputId": "077fcf10-6490-438e-cc8b-f3aea3cf9d9e"
      },
      "execution_count": 6,
      "outputs": [
        {
          "output_type": "execute_result",
          "data": {
            "text/plain": [
              "Timestamp('1776-07-04 00:00:00')"
            ]
          },
          "metadata": {},
          "execution_count": 6
        }
      ]
    },
    {
      "cell_type": "markdown",
      "source": [
        "## Exercise 2\n",
        "Use pd.to_datetime to express the birthday of one of your friends or family members as a datetime object.\n",
        "\n",
        "Then use the strftime method to write a message of the format:"
      ],
      "metadata": {
        "id": "_mhhe0CV7FS-"
      }
    },
    {
      "cell_type": "code",
      "source": [
        "#NAME's birthday is June 10, 1989 (a Saturday)"
      ],
      "metadata": {
        "id": "-QDJnCDt9HXo"
      },
      "execution_count": 7,
      "outputs": []
    },
    {
      "cell_type": "code",
      "source": [
        "birthday_str = \"10-19-2000\"\n",
        "birthday_strftime = \"%m-%d-%Y\"\n",
        "birthday = pd.to_datetime(birthday_str, format=birthday_strftime)\n",
        "birthday.strftime(\"Fernando's birthday is %A %B, %d (a %A)\")"
      ],
      "metadata": {
        "id": "cj3HmAvr7FY-",
        "colab": {
          "base_uri": "https://localhost:8080/",
          "height": 35
        },
        "outputId": "1bbc94a6-5334-46c9-be36-927334b6c68a"
      },
      "execution_count": 8,
      "outputs": [
        {
          "output_type": "execute_result",
          "data": {
            "text/plain": [
              "\"Fernando's birthday is Thursday October, 19 (a Thursday)\""
            ],
            "application/vnd.google.colaboratory.intrinsic+json": {
              "type": "string"
            }
          },
          "metadata": {},
          "execution_count": 8
        }
      ]
    },
    {
      "cell_type": "markdown",
      "source": [
        "## Exercise 3\n",
        "For each item in the list, extract the specified data from btc_usd:\n",
        "\n",
        "* July 2017 through August 2017 (inclusive)\n",
        "\n",
        "* April 25, 2015 to June 10, 2016\n",
        "\n",
        "* October 31, 2017"
      ],
      "metadata": {
        "id": "FZwiGWMK7FfW"
      }
    },
    {
      "cell_type": "code",
      "source": [
        "btc_usd = quandl.get(\"BCHARTS/BITSTAMPUSD\", start_date=start_date)\n",
        "btc_usd.info()\n",
        "btc_usd.head()"
      ],
      "metadata": {
        "id": "uh4N1bmS7FlT",
        "colab": {
          "base_uri": "https://localhost:8080/",
          "height": 481
        },
        "outputId": "42b40ef8-eb02-4b7c-de7d-0a3aab44f3e6"
      },
      "execution_count": 10,
      "outputs": [
        {
          "output_type": "stream",
          "name": "stdout",
          "text": [
            "<class 'pandas.core.frame.DataFrame'>\n",
            "DatetimeIndex: 2599 entries, 2014-05-01 to 2021-06-20\n",
            "Data columns (total 7 columns):\n",
            " #   Column             Non-Null Count  Dtype  \n",
            "---  ------             --------------  -----  \n",
            " 0   Open               2599 non-null   float64\n",
            " 1   High               2599 non-null   float64\n",
            " 2   Low                2599 non-null   float64\n",
            " 3   Close              2599 non-null   float64\n",
            " 4   Volume (BTC)       2599 non-null   float64\n",
            " 5   Volume (Currency)  2599 non-null   float64\n",
            " 6   Weighted Price     2599 non-null   float64\n",
            "dtypes: float64(7)\n",
            "memory usage: 162.4 KB\n"
          ]
        },
        {
          "output_type": "execute_result",
          "data": {
            "text/plain": [
              "              Open    High     Low   Close  Volume (BTC)  Volume (Currency)  \\\n",
              "Date                                                                          \n",
              "2014-05-01  449.00  465.88  447.97  460.97   9556.037886       4.381969e+06   \n",
              "2014-05-02  460.97  462.99  444.51  454.50   8269.891417       3.731061e+06   \n",
              "2014-05-03  452.00  454.50  431.00  439.00   7431.626480       3.271086e+06   \n",
              "2014-05-04  439.00  442.83  429.55  438.04   5154.407794       2.245293e+06   \n",
              "2014-05-05  435.88  445.00  425.00  433.00   8188.082795       3.547855e+06   \n",
              "\n",
              "            Weighted Price  \n",
              "Date                        \n",
              "2014-05-01      458.554960  \n",
              "2014-05-02      451.162018  \n",
              "2014-05-03      440.157544  \n",
              "2014-05-04      435.606483  \n",
              "2014-05-05      433.294968  "
            ],
            "text/html": [
              "\n",
              "  <div id=\"df-a293678d-3a2a-4939-97f4-e82cfbac4247\">\n",
              "    <div class=\"colab-df-container\">\n",
              "      <div>\n",
              "<style scoped>\n",
              "    .dataframe tbody tr th:only-of-type {\n",
              "        vertical-align: middle;\n",
              "    }\n",
              "\n",
              "    .dataframe tbody tr th {\n",
              "        vertical-align: top;\n",
              "    }\n",
              "\n",
              "    .dataframe thead th {\n",
              "        text-align: right;\n",
              "    }\n",
              "</style>\n",
              "<table border=\"1\" class=\"dataframe\">\n",
              "  <thead>\n",
              "    <tr style=\"text-align: right;\">\n",
              "      <th></th>\n",
              "      <th>Open</th>\n",
              "      <th>High</th>\n",
              "      <th>Low</th>\n",
              "      <th>Close</th>\n",
              "      <th>Volume (BTC)</th>\n",
              "      <th>Volume (Currency)</th>\n",
              "      <th>Weighted Price</th>\n",
              "    </tr>\n",
              "    <tr>\n",
              "      <th>Date</th>\n",
              "      <th></th>\n",
              "      <th></th>\n",
              "      <th></th>\n",
              "      <th></th>\n",
              "      <th></th>\n",
              "      <th></th>\n",
              "      <th></th>\n",
              "    </tr>\n",
              "  </thead>\n",
              "  <tbody>\n",
              "    <tr>\n",
              "      <th>2014-05-01</th>\n",
              "      <td>449.00</td>\n",
              "      <td>465.88</td>\n",
              "      <td>447.97</td>\n",
              "      <td>460.97</td>\n",
              "      <td>9556.037886</td>\n",
              "      <td>4.381969e+06</td>\n",
              "      <td>458.554960</td>\n",
              "    </tr>\n",
              "    <tr>\n",
              "      <th>2014-05-02</th>\n",
              "      <td>460.97</td>\n",
              "      <td>462.99</td>\n",
              "      <td>444.51</td>\n",
              "      <td>454.50</td>\n",
              "      <td>8269.891417</td>\n",
              "      <td>3.731061e+06</td>\n",
              "      <td>451.162018</td>\n",
              "    </tr>\n",
              "    <tr>\n",
              "      <th>2014-05-03</th>\n",
              "      <td>452.00</td>\n",
              "      <td>454.50</td>\n",
              "      <td>431.00</td>\n",
              "      <td>439.00</td>\n",
              "      <td>7431.626480</td>\n",
              "      <td>3.271086e+06</td>\n",
              "      <td>440.157544</td>\n",
              "    </tr>\n",
              "    <tr>\n",
              "      <th>2014-05-04</th>\n",
              "      <td>439.00</td>\n",
              "      <td>442.83</td>\n",
              "      <td>429.55</td>\n",
              "      <td>438.04</td>\n",
              "      <td>5154.407794</td>\n",
              "      <td>2.245293e+06</td>\n",
              "      <td>435.606483</td>\n",
              "    </tr>\n",
              "    <tr>\n",
              "      <th>2014-05-05</th>\n",
              "      <td>435.88</td>\n",
              "      <td>445.00</td>\n",
              "      <td>425.00</td>\n",
              "      <td>433.00</td>\n",
              "      <td>8188.082795</td>\n",
              "      <td>3.547855e+06</td>\n",
              "      <td>433.294968</td>\n",
              "    </tr>\n",
              "  </tbody>\n",
              "</table>\n",
              "</div>\n",
              "      <button class=\"colab-df-convert\" onclick=\"convertToInteractive('df-a293678d-3a2a-4939-97f4-e82cfbac4247')\"\n",
              "              title=\"Convert this dataframe to an interactive table.\"\n",
              "              style=\"display:none;\">\n",
              "        \n",
              "  <svg xmlns=\"http://www.w3.org/2000/svg\" height=\"24px\"viewBox=\"0 0 24 24\"\n",
              "       width=\"24px\">\n",
              "    <path d=\"M0 0h24v24H0V0z\" fill=\"none\"/>\n",
              "    <path d=\"M18.56 5.44l.94 2.06.94-2.06 2.06-.94-2.06-.94-.94-2.06-.94 2.06-2.06.94zm-11 1L8.5 8.5l.94-2.06 2.06-.94-2.06-.94L8.5 2.5l-.94 2.06-2.06.94zm10 10l.94 2.06.94-2.06 2.06-.94-2.06-.94-.94-2.06-.94 2.06-2.06.94z\"/><path d=\"M17.41 7.96l-1.37-1.37c-.4-.4-.92-.59-1.43-.59-.52 0-1.04.2-1.43.59L10.3 9.45l-7.72 7.72c-.78.78-.78 2.05 0 2.83L4 21.41c.39.39.9.59 1.41.59.51 0 1.02-.2 1.41-.59l7.78-7.78 2.81-2.81c.8-.78.8-2.07 0-2.86zM5.41 20L4 18.59l7.72-7.72 1.47 1.35L5.41 20z\"/>\n",
              "  </svg>\n",
              "      </button>\n",
              "      \n",
              "  <style>\n",
              "    .colab-df-container {\n",
              "      display:flex;\n",
              "      flex-wrap:wrap;\n",
              "      gap: 12px;\n",
              "    }\n",
              "\n",
              "    .colab-df-convert {\n",
              "      background-color: #E8F0FE;\n",
              "      border: none;\n",
              "      border-radius: 50%;\n",
              "      cursor: pointer;\n",
              "      display: none;\n",
              "      fill: #1967D2;\n",
              "      height: 32px;\n",
              "      padding: 0 0 0 0;\n",
              "      width: 32px;\n",
              "    }\n",
              "\n",
              "    .colab-df-convert:hover {\n",
              "      background-color: #E2EBFA;\n",
              "      box-shadow: 0px 1px 2px rgba(60, 64, 67, 0.3), 0px 1px 3px 1px rgba(60, 64, 67, 0.15);\n",
              "      fill: #174EA6;\n",
              "    }\n",
              "\n",
              "    [theme=dark] .colab-df-convert {\n",
              "      background-color: #3B4455;\n",
              "      fill: #D2E3FC;\n",
              "    }\n",
              "\n",
              "    [theme=dark] .colab-df-convert:hover {\n",
              "      background-color: #434B5C;\n",
              "      box-shadow: 0px 1px 3px 1px rgba(0, 0, 0, 0.15);\n",
              "      filter: drop-shadow(0px 1px 2px rgba(0, 0, 0, 0.3));\n",
              "      fill: #FFFFFF;\n",
              "    }\n",
              "  </style>\n",
              "\n",
              "      <script>\n",
              "        const buttonEl =\n",
              "          document.querySelector('#df-a293678d-3a2a-4939-97f4-e82cfbac4247 button.colab-df-convert');\n",
              "        buttonEl.style.display =\n",
              "          google.colab.kernel.accessAllowed ? 'block' : 'none';\n",
              "\n",
              "        async function convertToInteractive(key) {\n",
              "          const element = document.querySelector('#df-a293678d-3a2a-4939-97f4-e82cfbac4247');\n",
              "          const dataTable =\n",
              "            await google.colab.kernel.invokeFunction('convertToInteractive',\n",
              "                                                     [key], {});\n",
              "          if (!dataTable) return;\n",
              "\n",
              "          const docLinkHtml = 'Like what you see? Visit the ' +\n",
              "            '<a target=\"_blank\" href=https://colab.research.google.com/notebooks/data_table.ipynb>data table notebook</a>'\n",
              "            + ' to learn more about interactive tables.';\n",
              "          element.innerHTML = '';\n",
              "          dataTable['output_type'] = 'display_data';\n",
              "          await google.colab.output.renderOutput(dataTable, element);\n",
              "          const docLink = document.createElement('div');\n",
              "          docLink.innerHTML = docLinkHtml;\n",
              "          element.appendChild(docLink);\n",
              "        }\n",
              "      </script>\n",
              "    </div>\n",
              "  </div>\n",
              "  "
            ]
          },
          "metadata": {},
          "execution_count": 10
        }
      ]
    },
    {
      "cell_type": "code",
      "source": [
        "print(btc_usd.loc[\"July 2017\":\"August 2017\"])"
      ],
      "metadata": {
        "colab": {
          "base_uri": "https://localhost:8080/"
        },
        "id": "FR24m7sXRxXV",
        "outputId": "cbcc2ca1-fe3a-4551-83c9-9fdad9c32e81"
      },
      "execution_count": 11,
      "outputs": [
        {
          "output_type": "stream",
          "name": "stdout",
          "text": [
            "               Open     High      Low    Close  Volume (BTC)  \\\n",
            "Date                                                           \n",
            "2017-07-01  2465.48  2517.11  2390.00  2412.41   8885.893497   \n",
            "2017-07-02  2421.30  2528.72  2374.34  2504.37   8744.534411   \n",
            "2017-07-03  2504.81  2595.00  2472.68  2550.47  11520.707308   \n",
            "2017-07-04  2540.07  2639.47  2540.07  2596.12   9662.759414   \n",
            "2017-07-05  2594.52  2623.00  2530.10  2602.90  10882.839011   \n",
            "...             ...      ...      ...      ...           ...   \n",
            "2017-08-27  4333.38  4393.30  4290.32  4337.68   3979.124453   \n",
            "2017-08-28  4329.91  4399.72  4169.01  4379.99   8641.002446   \n",
            "2017-08-29  4385.00  4649.78  4336.26  4578.82  11879.642831   \n",
            "2017-08-30  4578.82  4642.22  4479.00  4573.20   8720.035040   \n",
            "2017-08-31  4573.15  4765.21  4566.66  4734.26   8911.412459   \n",
            "\n",
            "            Volume (Currency)  Weighted Price  \n",
            "Date                                           \n",
            "2017-07-01       2.175049e+07     2447.755113  \n",
            "2017-07-02       2.138627e+07     2445.673226  \n",
            "2017-07-03       2.921371e+07     2535.756265  \n",
            "2017-07-04       2.510748e+07     2598.376075  \n",
            "2017-07-05       2.795034e+07     2568.295339  \n",
            "...                       ...             ...  \n",
            "2017-08-27       1.726397e+07     4338.634650  \n",
            "2017-08-28       3.707720e+07     4290.845145  \n",
            "2017-08-29       5.349117e+07     4502.758977  \n",
            "2017-08-30       3.980054e+07     4564.263673  \n",
            "2017-08-31       4.172621e+07     4682.334106  \n",
            "\n",
            "[62 rows x 7 columns]\n"
          ]
        }
      ]
    },
    {
      "cell_type": "code",
      "source": [
        "print(btc_usd.loc[\"April 25, 2015\":\"June 9 2016\"])"
      ],
      "metadata": {
        "colab": {
          "base_uri": "https://localhost:8080/"
        },
        "id": "IC-MMEtzRzLN",
        "outputId": "9e371c7f-8306-444f-8cde-057803e45ebe"
      },
      "execution_count": 12,
      "outputs": [
        {
          "output_type": "stream",
          "name": "stdout",
          "text": [
            "              Open    High     Low   Close  Volume (BTC)  Volume (Currency)  \\\n",
            "Date                                                                          \n",
            "2015-04-25  231.04  232.29  225.70  226.12   5286.098594       1.206595e+06   \n",
            "2015-04-26  226.12  227.26  214.98  219.52  11238.356288       2.465554e+06   \n",
            "2015-04-27  219.52  229.93  217.52  227.23  13816.491481       3.078036e+06   \n",
            "2015-04-28  227.17  227.56  221.45  225.16   9345.783207       2.100834e+06   \n",
            "2015-04-29  225.18  226.99  221.81  225.48   8668.360650       1.948799e+06   \n",
            "...            ...     ...     ...     ...           ...                ...   \n",
            "2016-06-05  573.50  582.00  566.00  573.91   5415.934694       3.104174e+06   \n",
            "2016-06-06  573.80  586.02  573.80  584.50   4465.516121       2.599633e+06   \n",
            "2016-06-07  584.12  594.44  563.00  577.54   6705.918304       3.889184e+06   \n",
            "2016-06-08  577.48  584.25  571.86  583.03   3259.151105       1.885761e+06   \n",
            "2016-06-09  583.01  583.10  572.97  575.01   3770.718262       2.173852e+06   \n",
            "\n",
            "            Weighted Price  \n",
            "Date                        \n",
            "2015-04-25      228.258103  \n",
            "2015-04-26      219.387440  \n",
            "2015-04-27      222.779892  \n",
            "2015-04-28      224.789478  \n",
            "2015-04-29      224.817524  \n",
            "...                    ...  \n",
            "2016-06-05      573.155752  \n",
            "2016-06-06      582.157234  \n",
            "2016-06-07      579.962868  \n",
            "2016-06-08      578.604855  \n",
            "2016-06-09      576.508797  \n",
            "\n",
            "[412 rows x 7 columns]\n"
          ]
        }
      ]
    },
    {
      "cell_type": "code",
      "source": [
        "print(btc_usd.loc[\"October 31, 2017\"])"
      ],
      "metadata": {
        "colab": {
          "base_uri": "https://localhost:8080/"
        },
        "id": "eOxVB58XR0bP",
        "outputId": "34c3d339-6df5-45be-fd03-87e088168157"
      },
      "execution_count": 13,
      "outputs": [
        {
          "output_type": "stream",
          "name": "stdout",
          "text": [
            "Open                 6.120000e+03\n",
            "High                 6.449780e+03\n",
            "Low                  6.072810e+03\n",
            "Close                6.434210e+03\n",
            "Volume (BTC)         1.342331e+04\n",
            "Volume (Currency)    8.435448e+07\n",
            "Weighted Price       6.284179e+03\n",
            "Name: 2017-10-31 00:00:00, dtype: float64\n"
          ]
        }
      ]
    },
    {
      "cell_type": "markdown",
      "source": [
        "## Exercise 4\n",
        "Using the shift function, determine the week with the largest percent change in the volume of trades (the \"Volume (BTC)\" column).\n",
        "\n",
        "Repeat the analysis at the bi-weekly and monthly frequencies."
      ],
      "metadata": {
        "id": "xhXbOK997Frz"
      }
    },
    {
      "cell_type": "code",
      "source": [
        "# Convert the index to datetime format\n",
        "btc_usd.index = pd.to_datetime(btc_usd.index)\n",
        "\n",
        "# Calculate the percent change in volume compared to the previous day\n",
        "btc_usd['Volume (BTC) pct change'] = btc_usd['Volume (BTC)'].pct_change()\n",
        "\n",
        "# Determine the week with the largest percent change in volume\n",
        "btc_usd['Volume (BTC) pct change weekly'] = btc_usd['Volume (BTC) pct change'].shift(7)\n",
        "max_week = btc_usd['Volume (BTC) pct change weekly'].idxmax()\n",
        "\n",
        "# Determine the bi-week with the largest percent change in volume\n",
        "btc_usd['Volume (BTC) pct change bi-weekly'] = btc_usd['Volume (BTC) pct change'].shift(14)\n",
        "max_biweek = btc_usd['Volume (BTC) pct change bi-weekly'].idxmax()\n",
        "\n",
        "# Determine the month with the largest percent change in volume\n",
        "btc_usd['Volume (BTC) pct change monthly'] = btc_usd['Volume (BTC) pct change'].shift(30)\n",
        "max_month = btc_usd['Volume (BTC) pct change monthly'].idxmax()\n",
        "\n",
        "print(f\"Max weekly percent change: {max_week}\")\n",
        "print(f\"Max bi-weekly percent change: {max_biweek}\")\n",
        "print(f\"Max monthly percent change: {max_month}\")\n"
      ],
      "metadata": {
        "id": "d0ToEnWU7Fx-",
        "colab": {
          "base_uri": "https://localhost:8080/"
        },
        "outputId": "cc6a41d7-d298-49cc-c782-c6fb9e05d01e"
      },
      "execution_count": 14,
      "outputs": [
        {
          "output_type": "stream",
          "name": "stdout",
          "text": [
            "Max weekly percent change: 2015-01-16 00:00:00\n",
            "Max bi-weekly percent change: 2015-01-23 00:00:00\n",
            "Max monthly percent change: 2015-02-08 00:00:00\n"
          ]
        }
      ]
    },
    {
      "cell_type": "code",
      "source": [
        "btc_usd.info()"
      ],
      "metadata": {
        "colab": {
          "base_uri": "https://localhost:8080/"
        },
        "id": "10WI15m6fWm0",
        "outputId": "659581d8-c5c9-4001-a1aa-2bc12828d344"
      },
      "execution_count": null,
      "outputs": [
        {
          "output_type": "stream",
          "name": "stdout",
          "text": [
            "<class 'pandas.core.frame.DataFrame'>\n",
            "DatetimeIndex: 2599 entries, 2014-05-01 to 2021-06-20\n",
            "Data columns (total 11 columns):\n",
            " #   Column                             Non-Null Count  Dtype  \n",
            "---  ------                             --------------  -----  \n",
            " 0   Open                               2599 non-null   float64\n",
            " 1   High                               2599 non-null   float64\n",
            " 2   Low                                2599 non-null   float64\n",
            " 3   Close                              2599 non-null   float64\n",
            " 4   Volume (BTC)                       2599 non-null   float64\n",
            " 5   Volume (Currency)                  2599 non-null   float64\n",
            " 6   Weighted Price                     2599 non-null   float64\n",
            " 7   Volume (BTC) pct change            2596 non-null   float64\n",
            " 8   Volume (BTC) pct change weekly     2589 non-null   float64\n",
            " 9   Volume (BTC) pct change bi-weekly  2582 non-null   float64\n",
            " 10  Volume (BTC) pct change monthly    2566 non-null   float64\n",
            "dtypes: float64(11)\n",
            "memory usage: 308.2 KB\n"
          ]
        }
      ]
    },
    {
      "cell_type": "markdown",
      "source": [
        "## Exercise 5\n",
        "Imagine that you have access to the DeLorean time machine from “Back to the Future”.\n",
        "\n",
        "You are allowed to use the DeLorean only once, subject to the following conditions:\n",
        "\n",
        "You may travel back to any day in the past.\n",
        "\n",
        "On that day, you may purchase one bitcoin at market open.\n",
        "\n",
        "You can then take the time machine 30 days into the future and sell your bitcoin at market close.\n",
        "\n",
        "Then you return to the present, pocketing the profits.\n",
        "\n",
        "How would you pick the day?\n",
        "\n",
        "Think carefully about what you would need to compute to make the optimal choice. Try writing it out in the markdown cell below so you have a clear description of the want operator that we will apply after the exercise.\n",
        "\n",
        "(Note: Don’t look too far below, because in the next non-empty cell we have written out our answer.)\n",
        "\n",
        "To make this decision, we want to know …\n",
        "\n"
      ],
      "metadata": {
        "id": "q1yjJ1zd7F4F"
      }
    },
    {
      "cell_type": "markdown",
      "source": [
        "magine that you have access to the DeLorean time machine from “Back to the Future”.\n",
        "\n",
        "You are allowed to use the DeLorean only once, subject to the following conditions:\n",
        "\n",
        "You may travel back to any day in the past.\n",
        "\n",
        "On that day, you may purchase one bitcoin at market open.\n",
        "\n",
        "You can then take the time machine 30 days into the future and sell your bitcoin at market close.\n",
        "\n",
        "Then you return to the present, pocketing the profits.\n",
        "\n",
        "How would you pick the day?\n",
        "\n",
        "Think carefully about what you would need to compute to make the optimal choice. Try writing it out in the markdown cell below so you have a clear description of the want operator that we will apply after the exercise.\n",
        "\n",
        "(Note: Don’t look too far below, because in the next non-empty cell we have written out our answer.)\n",
        "\n",
        "To make this decision, we want to know …\n",
        "\n",
        "### Answer:\n",
        "To make the optimal decision, we would want to know the historical daily price data for Bitcoin, so we can identify the day with the lowest opening price within our desired date range.\n",
        "\n",
        "Once we have identified the day with the lowest opening price, we would want to calculate the highest closing price for the following 30 days.\n",
        "\n",
        "We can then subtract the initial purchase price from the final selling price to calculate the profit that we would make.\n",
        "\n",
        "Finally, we would want to compare the potential profits for each day within our desired date range, and select the day with the highest potential profit as the optimal day to travel back to and purchase Bitcoin."
      ],
      "metadata": {
        "id": "PTSplt82et2Y"
      }
    },
    {
      "cell_type": "code",
      "source": [
        "btc_usd['Open'].min()"
      ],
      "metadata": {
        "colab": {
          "base_uri": "https://localhost:8080/"
        },
        "id": "NzyQYPW8vq8U",
        "outputId": "72e57ff3-15c1-4cf1-903b-eb5e40935022"
      },
      "execution_count": 22,
      "outputs": [
        {
          "output_type": "execute_result",
          "data": {
            "text/plain": [
              "0.0"
            ]
          },
          "metadata": {},
          "execution_count": 22
        }
      ]
    },
    {
      "cell_type": "markdown",
      "source": [
        "## Exercise 6\n",
        "Do the following:\n",
        "\n",
        "Write a pandas function that implements your strategy.\n",
        "\n",
        "Pass it to the agg method of rolling_btc.\n",
        "\n",
        "Extract the \"Open\" column from the result.\n",
        "\n",
        "Find the date associated with the maximum value in that column.\n",
        "\n",
        "How much money did you make? Compare with your neighbor.\n"
      ],
      "metadata": {
        "id": "Bgaw6E7E7GFA"
      }
    },
    {
      "cell_type": "code",
      "source": [
        "def daily_value(df):\n",
        "\n",
        "    return df.max() - df.min()"
      ],
      "metadata": {
        "id": "XvgdKKcg9z79"
      },
      "execution_count": 65,
      "outputs": []
    },
    {
      "cell_type": "code",
      "source": [
        "rolling_btc = btc_usd.rolling(\"30d\").agg({'Open':'min','Close':'max'})\n",
        "print('Passing function to agg method\\n',\n",
        "      rolling_btc.apply(daily_value))\n",
        "\n",
        "rolling_btc_open = rolling_btc['Open']\n",
        "print('Extracting Open column from result\\n',\n",
        "      rolling_btc_open)\n",
        "\n",
        "print('Date associated with max value in open column\\n',\n",
        "      rolling_btc_open.idxmax())\n"
      ],
      "metadata": {
        "colab": {
          "base_uri": "https://localhost:8080/"
        },
        "id": "TeKM9B9udhRq",
        "outputId": "ac50fa84-c1b2-405e-a768-dfbda51fda8d"
      },
      "execution_count": 66,
      "outputs": [
        {
          "output_type": "stream",
          "name": "stdout",
          "text": [
            "Passing function to agg method\n",
            " Open     51292.65\n",
            "Close    63325.26\n",
            "dtype: float64\n",
            "Extracting Open column from result\n",
            " Date\n",
            "2014-05-01      449.00\n",
            "2014-05-02      449.00\n",
            "2014-05-03      449.00\n",
            "2014-05-04      439.00\n",
            "2014-05-05      435.88\n",
            "                ...   \n",
            "2021-06-16    33413.19\n",
            "2021-06-17    33413.19\n",
            "2021-06-18    33413.19\n",
            "2021-06-19    33413.19\n",
            "2021-06-20    33413.19\n",
            "Name: Open, Length: 2599, dtype: float64\n",
            "Date associated with max value in open column\n",
            " 2021-04-07 00:00:00\n"
          ]
        }
      ]
    },
    {
      "cell_type": "markdown",
      "source": [
        "## Exercise 7\n",
        "Now suppose you still have access to the DeLorean, but the conditions are slightly different.\n",
        "\n",
        "You may now:\n",
        "\n",
        "Travel back to the first day of any month in the past.\n",
        "\n",
        "On that day, you may purchase one bitcoin at market open.\n",
        "\n",
        "You can then travel to any day in that month and sell the bitcoin at market close.\n",
        "\n",
        "Then return to the present, pocketing the profits.\n",
        "\n",
        "To which month would you travel? On which day of that month would you return to sell the bitcoin?\n",
        "\n",
        "Discuss with your neighbor what you would need to compute to make the optimal choice. Try writing it out in the markdown cell below so you have a clear description of the want operator that we will apply after the exercise.\n",
        "\n",
        "(Note: Don’t look too many cells below, because we have written out our answer.)\n",
        "\n",
        "To make the optimal decision we need …\n",
        "\n"
      ],
      "metadata": {
        "id": "GzCOTIGY91xU"
      }
    },
    {
      "cell_type": "markdown",
      "source": [
        "### Answer:\n",
        "To make the optimal decision, we would want to know the historical daily price data for Bitcoin, so we can identify the month with the lowest opening price.\n",
        "\n",
        "Once we have identified the month with the lowest opening price, we would want to calculate the highest closing price for that month.\n",
        "\n",
        "We can then subtract the initial purchase price from the final selling price to calculate the profit that we would make.\n",
        "\n",
        "Finally, we would want to compare the potential profits for each month, and select the month with the highest potential profit as the optimal month to travel back to and purchase Bitcoin."
      ],
      "metadata": {
        "id": "BjuIzNvsdyZD"
      }
    },
    {
      "cell_type": "markdown",
      "source": [
        "## Exercise 8\n",
        "Do the following:\n",
        "\n",
        "Write a pandas function that implements your strategy.\n",
        "\n",
        "Pass it to the agg method of resampled_btc.\n",
        "\n",
        "Extract the \"Open\" column from the result.\n",
        "\n",
        "Find the date associated with the maximum value in that column.\n",
        "\n",
        "How much money did you make? Compare with your neighbor.\n",
        "\n",
        "Was this strategy more profitable than the previous one? By how much?"
      ],
      "metadata": {
        "id": "SU6JHZim981m"
      }
    },
    {
      "cell_type": "code",
      "source": [
        "def monthly_value(df):\n",
        "\n",
        "    return df.max() - df.min()\n",
        "\n",
        "new_btc_usd = btc_usd.reset_index()\n",
        "min_btc = new_btc_usd.loc[new_btc_usd[\"Date\"].dt.day == 1,:]\n",
        "min_btc_resampled = min_btc.resample('MS',on = 'Date').agg({'Open':'min'})\n",
        "resampled_btc = btc_usd.resample('MS').agg({'Open':'min','Close':'max'})\n",
        "resampled_btc['Open'] = min_btc_resampled['Open'].values\n",
        "resampled_btc.apply(monthly_value)\n",
        "print('Passing function to agg method\\n',\n",
        "      resampled_btc.apply(daily_value))\n",
        "resampled_btc_open = resampled_btc['Open']\n",
        "print('Exctracting Open column from result\\n',\n",
        "      resampled_btc_open)\n",
        "resampled_btc_open.index = pd.to_datetime(resampled_btc_open.index)\n",
        "\n",
        "print('Data Associated with max value in open column\\n',\n",
        "      resampled_btc_open.idxmax())\n",
        "\n"
      ],
      "metadata": {
        "id": "5O61ixg199Am",
        "colab": {
          "base_uri": "https://localhost:8080/"
        },
        "outputId": "5b14e6c7-88d2-49d7-cbf3-8545c3cd8558"
      },
      "execution_count": 67,
      "outputs": [
        {
          "output_type": "stream",
          "name": "stdout",
          "text": [
            "Passing function to agg method\n",
            " Open     58571.92\n",
            "Close    63321.28\n",
            "dtype: float64\n",
            "Exctracting Open column from result\n",
            " Date\n",
            "2014-05-01      449.00\n",
            "2014-06-01      627.80\n",
            "2014-07-01      640.00\n",
            "2014-08-01      583.54\n",
            "2014-09-01      479.01\n",
            "                ...   \n",
            "2021-02-01    33110.32\n",
            "2021-03-01    45261.56\n",
            "2021-04-01    58789.96\n",
            "2021-05-01    57790.66\n",
            "2021-06-01    37279.89\n",
            "Freq: MS, Name: Open, Length: 86, dtype: float64\n",
            "Data Associated with max value in open column\n",
            " 2021-04-01 00:00:00\n"
          ]
        }
      ]
    }
  ]
}