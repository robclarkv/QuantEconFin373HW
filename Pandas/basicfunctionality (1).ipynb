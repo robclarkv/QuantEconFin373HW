{
  "nbformat": 4,
  "nbformat_minor": 0,
  "metadata": {
    "colab": {
      "provenance": []
    },
    "kernelspec": {
      "name": "python3",
      "display_name": "Python 3"
    },
    "language_info": {
      "name": "python"
    }
  },
  "cells": [
    {
      "cell_type": "code",
      "source": [
        "import pandas as pd\n",
        "import matplotlib.pyplot as plt\n",
        "\n",
        "%matplotlib inline\n",
        "\n",
        "pd.__version__"
      ],
      "metadata": {
        "colab": {
          "base_uri": "https://localhost:8080/",
          "height": 35
        },
        "id": "OG-DEF7ZeCEs",
        "outputId": "a7a40e25-195e-490a-c556-5b9667a70ce9"
      },
      "execution_count": 33,
      "outputs": [
        {
          "output_type": "execute_result",
          "data": {
            "text/plain": [
              "'1.3.5'"
            ],
            "application/vnd.google.colaboratory.intrinsic+json": {
              "type": "string"
            }
          },
          "metadata": {},
          "execution_count": 33
        }
      ]
    },
    {
      "cell_type": "code",
      "source": [
        "## Load up the data -- this will take a couple seconds\n",
        "url = \"https://datascience.quantecon.org/assets/data/state_unemployment.csv\"\n",
        "unemp_raw = pd.read_csv(url, parse_dates=[\"Date\"])"
      ],
      "metadata": {
        "id": "8zgZw2e1eGm0"
      },
      "execution_count": 2,
      "outputs": []
    },
    {
      "cell_type": "code",
      "source": [
        "unemp_raw.head()"
      ],
      "metadata": {
        "colab": {
          "base_uri": "https://localhost:8080/",
          "height": 424
        },
        "id": "CFPV-Xl8ecUt",
        "outputId": "9883a92b-49bf-4101-eddf-ed337abf233f"
      },
      "execution_count": 3,
      "outputs": [
        {
          "output_type": "execute_result",
          "data": {
            "text/plain": [
              "            Date          state  LaborForce  UnemploymentRate\n",
              "0     2000-01-01        Alabama   2142945.0               4.7\n",
              "1     2000-01-01         Alaska    319059.0               6.3\n",
              "2     2000-01-01        Arizona   2499980.0               4.1\n",
              "3     2000-01-01       Arkansas   1264619.0               4.4\n",
              "4     2000-01-01     California  16680246.0               5.0\n",
              "...          ...            ...         ...               ...\n",
              "10795 2017-12-01       Virginia   4318483.0               3.6\n",
              "10796 2017-12-01     Washington   3754871.0               4.7\n",
              "10797 2017-12-01  West Virginia    781852.0               5.4\n",
              "10798 2017-12-01      Wisconsin   3158257.0               3.2\n",
              "10799 2017-12-01        Wyoming    292305.0               4.1\n",
              "\n",
              "[10800 rows x 4 columns]"
            ],
            "text/html": [
              "\n",
              "  <div id=\"df-65d32316-cda9-462b-9394-058e3078564b\">\n",
              "    <div class=\"colab-df-container\">\n",
              "      <div>\n",
              "<style scoped>\n",
              "    .dataframe tbody tr th:only-of-type {\n",
              "        vertical-align: middle;\n",
              "    }\n",
              "\n",
              "    .dataframe tbody tr th {\n",
              "        vertical-align: top;\n",
              "    }\n",
              "\n",
              "    .dataframe thead th {\n",
              "        text-align: right;\n",
              "    }\n",
              "</style>\n",
              "<table border=\"1\" class=\"dataframe\">\n",
              "  <thead>\n",
              "    <tr style=\"text-align: right;\">\n",
              "      <th></th>\n",
              "      <th>Date</th>\n",
              "      <th>state</th>\n",
              "      <th>LaborForce</th>\n",
              "      <th>UnemploymentRate</th>\n",
              "    </tr>\n",
              "  </thead>\n",
              "  <tbody>\n",
              "    <tr>\n",
              "      <th>0</th>\n",
              "      <td>2000-01-01</td>\n",
              "      <td>Alabama</td>\n",
              "      <td>2142945.0</td>\n",
              "      <td>4.7</td>\n",
              "    </tr>\n",
              "    <tr>\n",
              "      <th>1</th>\n",
              "      <td>2000-01-01</td>\n",
              "      <td>Alaska</td>\n",
              "      <td>319059.0</td>\n",
              "      <td>6.3</td>\n",
              "    </tr>\n",
              "    <tr>\n",
              "      <th>2</th>\n",
              "      <td>2000-01-01</td>\n",
              "      <td>Arizona</td>\n",
              "      <td>2499980.0</td>\n",
              "      <td>4.1</td>\n",
              "    </tr>\n",
              "    <tr>\n",
              "      <th>3</th>\n",
              "      <td>2000-01-01</td>\n",
              "      <td>Arkansas</td>\n",
              "      <td>1264619.0</td>\n",
              "      <td>4.4</td>\n",
              "    </tr>\n",
              "    <tr>\n",
              "      <th>4</th>\n",
              "      <td>2000-01-01</td>\n",
              "      <td>California</td>\n",
              "      <td>16680246.0</td>\n",
              "      <td>5.0</td>\n",
              "    </tr>\n",
              "    <tr>\n",
              "      <th>...</th>\n",
              "      <td>...</td>\n",
              "      <td>...</td>\n",
              "      <td>...</td>\n",
              "      <td>...</td>\n",
              "    </tr>\n",
              "    <tr>\n",
              "      <th>10795</th>\n",
              "      <td>2017-12-01</td>\n",
              "      <td>Virginia</td>\n",
              "      <td>4318483.0</td>\n",
              "      <td>3.6</td>\n",
              "    </tr>\n",
              "    <tr>\n",
              "      <th>10796</th>\n",
              "      <td>2017-12-01</td>\n",
              "      <td>Washington</td>\n",
              "      <td>3754871.0</td>\n",
              "      <td>4.7</td>\n",
              "    </tr>\n",
              "    <tr>\n",
              "      <th>10797</th>\n",
              "      <td>2017-12-01</td>\n",
              "      <td>West Virginia</td>\n",
              "      <td>781852.0</td>\n",
              "      <td>5.4</td>\n",
              "    </tr>\n",
              "    <tr>\n",
              "      <th>10798</th>\n",
              "      <td>2017-12-01</td>\n",
              "      <td>Wisconsin</td>\n",
              "      <td>3158257.0</td>\n",
              "      <td>3.2</td>\n",
              "    </tr>\n",
              "    <tr>\n",
              "      <th>10799</th>\n",
              "      <td>2017-12-01</td>\n",
              "      <td>Wyoming</td>\n",
              "      <td>292305.0</td>\n",
              "      <td>4.1</td>\n",
              "    </tr>\n",
              "  </tbody>\n",
              "</table>\n",
              "<p>10800 rows × 4 columns</p>\n",
              "</div>\n",
              "      <button class=\"colab-df-convert\" onclick=\"convertToInteractive('df-65d32316-cda9-462b-9394-058e3078564b')\"\n",
              "              title=\"Convert this dataframe to an interactive table.\"\n",
              "              style=\"display:none;\">\n",
              "        \n",
              "  <svg xmlns=\"http://www.w3.org/2000/svg\" height=\"24px\"viewBox=\"0 0 24 24\"\n",
              "       width=\"24px\">\n",
              "    <path d=\"M0 0h24v24H0V0z\" fill=\"none\"/>\n",
              "    <path d=\"M18.56 5.44l.94 2.06.94-2.06 2.06-.94-2.06-.94-.94-2.06-.94 2.06-2.06.94zm-11 1L8.5 8.5l.94-2.06 2.06-.94-2.06-.94L8.5 2.5l-.94 2.06-2.06.94zm10 10l.94 2.06.94-2.06 2.06-.94-2.06-.94-.94-2.06-.94 2.06-2.06.94z\"/><path d=\"M17.41 7.96l-1.37-1.37c-.4-.4-.92-.59-1.43-.59-.52 0-1.04.2-1.43.59L10.3 9.45l-7.72 7.72c-.78.78-.78 2.05 0 2.83L4 21.41c.39.39.9.59 1.41.59.51 0 1.02-.2 1.41-.59l7.78-7.78 2.81-2.81c.8-.78.8-2.07 0-2.86zM5.41 20L4 18.59l7.72-7.72 1.47 1.35L5.41 20z\"/>\n",
              "  </svg>\n",
              "      </button>\n",
              "      \n",
              "  <style>\n",
              "    .colab-df-container {\n",
              "      display:flex;\n",
              "      flex-wrap:wrap;\n",
              "      gap: 12px;\n",
              "    }\n",
              "\n",
              "    .colab-df-convert {\n",
              "      background-color: #E8F0FE;\n",
              "      border: none;\n",
              "      border-radius: 50%;\n",
              "      cursor: pointer;\n",
              "      display: none;\n",
              "      fill: #1967D2;\n",
              "      height: 32px;\n",
              "      padding: 0 0 0 0;\n",
              "      width: 32px;\n",
              "    }\n",
              "\n",
              "    .colab-df-convert:hover {\n",
              "      background-color: #E2EBFA;\n",
              "      box-shadow: 0px 1px 2px rgba(60, 64, 67, 0.3), 0px 1px 3px 1px rgba(60, 64, 67, 0.15);\n",
              "      fill: #174EA6;\n",
              "    }\n",
              "\n",
              "    [theme=dark] .colab-df-convert {\n",
              "      background-color: #3B4455;\n",
              "      fill: #D2E3FC;\n",
              "    }\n",
              "\n",
              "    [theme=dark] .colab-df-convert:hover {\n",
              "      background-color: #434B5C;\n",
              "      box-shadow: 0px 1px 3px 1px rgba(0, 0, 0, 0.15);\n",
              "      filter: drop-shadow(0px 1px 2px rgba(0, 0, 0, 0.3));\n",
              "      fill: #FFFFFF;\n",
              "    }\n",
              "  </style>\n",
              "\n",
              "      <script>\n",
              "        const buttonEl =\n",
              "          document.querySelector('#df-65d32316-cda9-462b-9394-058e3078564b button.colab-df-convert');\n",
              "        buttonEl.style.display =\n",
              "          google.colab.kernel.accessAllowed ? 'block' : 'none';\n",
              "\n",
              "        async function convertToInteractive(key) {\n",
              "          const element = document.querySelector('#df-65d32316-cda9-462b-9394-058e3078564b');\n",
              "          const dataTable =\n",
              "            await google.colab.kernel.invokeFunction('convertToInteractive',\n",
              "                                                     [key], {});\n",
              "          if (!dataTable) return;\n",
              "\n",
              "          const docLinkHtml = 'Like what you see? Visit the ' +\n",
              "            '<a target=\"_blank\" href=https://colab.research.google.com/notebooks/data_table.ipynb>data table notebook</a>'\n",
              "            + ' to learn more about interactive tables.';\n",
              "          element.innerHTML = '';\n",
              "          dataTable['output_type'] = 'display_data';\n",
              "          await google.colab.output.renderOutput(dataTable, element);\n",
              "          const docLink = document.createElement('div');\n",
              "          docLink.innerHTML = docLinkHtml;\n",
              "          element.appendChild(docLink);\n",
              "        }\n",
              "      </script>\n",
              "    </div>\n",
              "  </div>\n",
              "  "
            ]
          },
          "metadata": {},
          "execution_count": 3
        }
      ]
    },
    {
      "cell_type": "code",
      "source": [
        "# Don't worry about the details here quite yet\n",
        "unemp_all = (\n",
        "    unemp_raw\n",
        "    .reset_index()\n",
        "    .pivot_table(index=\"Date\", columns=\"state\", values=\"UnemploymentRate\")\n",
        ")\n",
        "unemp_all.head()"
      ],
      "metadata": {
        "colab": {
          "base_uri": "https://localhost:8080/",
          "height": 311
        },
        "id": "-F-8xrrICCmI",
        "outputId": "c66d1f46-7d7c-4b73-b6ad-3df92d45773c"
      },
      "execution_count": 4,
      "outputs": [
        {
          "output_type": "execute_result",
          "data": {
            "text/plain": [
              "state       Alabama  Alaska  Arizona  Arkansas  California  Colorado  \\\n",
              "Date                                                                   \n",
              "2000-01-01      4.7     6.3      4.1       4.4         5.0       2.8   \n",
              "2000-02-01      4.7     6.3      4.1       4.3         5.0       2.8   \n",
              "2000-03-01      4.6     6.3      4.0       4.3         5.0       2.7   \n",
              "2000-04-01      4.6     6.3      4.0       4.3         5.1       2.7   \n",
              "2000-05-01      4.5     6.3      4.0       4.2         5.1       2.7   \n",
              "\n",
              "state       Connecticut  Delaware  Florida  Georgia  ...  South Dakota  \\\n",
              "Date                                                 ...                 \n",
              "2000-01-01          2.8       3.5      3.7      3.7  ...           2.4   \n",
              "2000-02-01          2.7       3.6      3.7      3.6  ...           2.4   \n",
              "2000-03-01          2.6       3.6      3.7      3.6  ...           2.4   \n",
              "2000-04-01          2.5       3.7      3.7      3.7  ...           2.4   \n",
              "2000-05-01          2.4       3.7      3.7      3.7  ...           2.4   \n",
              "\n",
              "state       Tennessee  Texas  Utah  Vermont  Virginia  Washington  \\\n",
              "Date                                                                \n",
              "2000-01-01        3.7    4.6   3.1      2.7       2.6         4.9   \n",
              "2000-02-01        3.7    4.6   3.1      2.6       2.5         4.9   \n",
              "2000-03-01        3.8    4.5   3.1      2.6       2.4         5.0   \n",
              "2000-04-01        3.8    4.4   3.1      2.7       2.4         5.0   \n",
              "2000-05-01        3.9    4.3   3.2      2.7       2.3         5.1   \n",
              "\n",
              "state       West Virginia  Wisconsin  Wyoming  \n",
              "Date                                           \n",
              "2000-01-01            5.8        3.2      4.1  \n",
              "2000-02-01            5.6        3.2      3.9  \n",
              "2000-03-01            5.5        3.3      3.9  \n",
              "2000-04-01            5.4        3.4      3.8  \n",
              "2000-05-01            5.4        3.5      3.8  \n",
              "\n",
              "[5 rows x 50 columns]"
            ],
            "text/html": [
              "\n",
              "  <div id=\"df-66cee1eb-80bd-4dcc-82a4-1a878d07739c\">\n",
              "    <div class=\"colab-df-container\">\n",
              "      <div>\n",
              "<style scoped>\n",
              "    .dataframe tbody tr th:only-of-type {\n",
              "        vertical-align: middle;\n",
              "    }\n",
              "\n",
              "    .dataframe tbody tr th {\n",
              "        vertical-align: top;\n",
              "    }\n",
              "\n",
              "    .dataframe thead th {\n",
              "        text-align: right;\n",
              "    }\n",
              "</style>\n",
              "<table border=\"1\" class=\"dataframe\">\n",
              "  <thead>\n",
              "    <tr style=\"text-align: right;\">\n",
              "      <th>state</th>\n",
              "      <th>Alabama</th>\n",
              "      <th>Alaska</th>\n",
              "      <th>Arizona</th>\n",
              "      <th>Arkansas</th>\n",
              "      <th>California</th>\n",
              "      <th>Colorado</th>\n",
              "      <th>Connecticut</th>\n",
              "      <th>Delaware</th>\n",
              "      <th>Florida</th>\n",
              "      <th>Georgia</th>\n",
              "      <th>...</th>\n",
              "      <th>South Dakota</th>\n",
              "      <th>Tennessee</th>\n",
              "      <th>Texas</th>\n",
              "      <th>Utah</th>\n",
              "      <th>Vermont</th>\n",
              "      <th>Virginia</th>\n",
              "      <th>Washington</th>\n",
              "      <th>West Virginia</th>\n",
              "      <th>Wisconsin</th>\n",
              "      <th>Wyoming</th>\n",
              "    </tr>\n",
              "    <tr>\n",
              "      <th>Date</th>\n",
              "      <th></th>\n",
              "      <th></th>\n",
              "      <th></th>\n",
              "      <th></th>\n",
              "      <th></th>\n",
              "      <th></th>\n",
              "      <th></th>\n",
              "      <th></th>\n",
              "      <th></th>\n",
              "      <th></th>\n",
              "      <th></th>\n",
              "      <th></th>\n",
              "      <th></th>\n",
              "      <th></th>\n",
              "      <th></th>\n",
              "      <th></th>\n",
              "      <th></th>\n",
              "      <th></th>\n",
              "      <th></th>\n",
              "      <th></th>\n",
              "      <th></th>\n",
              "    </tr>\n",
              "  </thead>\n",
              "  <tbody>\n",
              "    <tr>\n",
              "      <th>2000-01-01</th>\n",
              "      <td>4.7</td>\n",
              "      <td>6.3</td>\n",
              "      <td>4.1</td>\n",
              "      <td>4.4</td>\n",
              "      <td>5.0</td>\n",
              "      <td>2.8</td>\n",
              "      <td>2.8</td>\n",
              "      <td>3.5</td>\n",
              "      <td>3.7</td>\n",
              "      <td>3.7</td>\n",
              "      <td>...</td>\n",
              "      <td>2.4</td>\n",
              "      <td>3.7</td>\n",
              "      <td>4.6</td>\n",
              "      <td>3.1</td>\n",
              "      <td>2.7</td>\n",
              "      <td>2.6</td>\n",
              "      <td>4.9</td>\n",
              "      <td>5.8</td>\n",
              "      <td>3.2</td>\n",
              "      <td>4.1</td>\n",
              "    </tr>\n",
              "    <tr>\n",
              "      <th>2000-02-01</th>\n",
              "      <td>4.7</td>\n",
              "      <td>6.3</td>\n",
              "      <td>4.1</td>\n",
              "      <td>4.3</td>\n",
              "      <td>5.0</td>\n",
              "      <td>2.8</td>\n",
              "      <td>2.7</td>\n",
              "      <td>3.6</td>\n",
              "      <td>3.7</td>\n",
              "      <td>3.6</td>\n",
              "      <td>...</td>\n",
              "      <td>2.4</td>\n",
              "      <td>3.7</td>\n",
              "      <td>4.6</td>\n",
              "      <td>3.1</td>\n",
              "      <td>2.6</td>\n",
              "      <td>2.5</td>\n",
              "      <td>4.9</td>\n",
              "      <td>5.6</td>\n",
              "      <td>3.2</td>\n",
              "      <td>3.9</td>\n",
              "    </tr>\n",
              "    <tr>\n",
              "      <th>2000-03-01</th>\n",
              "      <td>4.6</td>\n",
              "      <td>6.3</td>\n",
              "      <td>4.0</td>\n",
              "      <td>4.3</td>\n",
              "      <td>5.0</td>\n",
              "      <td>2.7</td>\n",
              "      <td>2.6</td>\n",
              "      <td>3.6</td>\n",
              "      <td>3.7</td>\n",
              "      <td>3.6</td>\n",
              "      <td>...</td>\n",
              "      <td>2.4</td>\n",
              "      <td>3.8</td>\n",
              "      <td>4.5</td>\n",
              "      <td>3.1</td>\n",
              "      <td>2.6</td>\n",
              "      <td>2.4</td>\n",
              "      <td>5.0</td>\n",
              "      <td>5.5</td>\n",
              "      <td>3.3</td>\n",
              "      <td>3.9</td>\n",
              "    </tr>\n",
              "    <tr>\n",
              "      <th>2000-04-01</th>\n",
              "      <td>4.6</td>\n",
              "      <td>6.3</td>\n",
              "      <td>4.0</td>\n",
              "      <td>4.3</td>\n",
              "      <td>5.1</td>\n",
              "      <td>2.7</td>\n",
              "      <td>2.5</td>\n",
              "      <td>3.7</td>\n",
              "      <td>3.7</td>\n",
              "      <td>3.7</td>\n",
              "      <td>...</td>\n",
              "      <td>2.4</td>\n",
              "      <td>3.8</td>\n",
              "      <td>4.4</td>\n",
              "      <td>3.1</td>\n",
              "      <td>2.7</td>\n",
              "      <td>2.4</td>\n",
              "      <td>5.0</td>\n",
              "      <td>5.4</td>\n",
              "      <td>3.4</td>\n",
              "      <td>3.8</td>\n",
              "    </tr>\n",
              "    <tr>\n",
              "      <th>2000-05-01</th>\n",
              "      <td>4.5</td>\n",
              "      <td>6.3</td>\n",
              "      <td>4.0</td>\n",
              "      <td>4.2</td>\n",
              "      <td>5.1</td>\n",
              "      <td>2.7</td>\n",
              "      <td>2.4</td>\n",
              "      <td>3.7</td>\n",
              "      <td>3.7</td>\n",
              "      <td>3.7</td>\n",
              "      <td>...</td>\n",
              "      <td>2.4</td>\n",
              "      <td>3.9</td>\n",
              "      <td>4.3</td>\n",
              "      <td>3.2</td>\n",
              "      <td>2.7</td>\n",
              "      <td>2.3</td>\n",
              "      <td>5.1</td>\n",
              "      <td>5.4</td>\n",
              "      <td>3.5</td>\n",
              "      <td>3.8</td>\n",
              "    </tr>\n",
              "  </tbody>\n",
              "</table>\n",
              "<p>5 rows × 50 columns</p>\n",
              "</div>\n",
              "      <button class=\"colab-df-convert\" onclick=\"convertToInteractive('df-66cee1eb-80bd-4dcc-82a4-1a878d07739c')\"\n",
              "              title=\"Convert this dataframe to an interactive table.\"\n",
              "              style=\"display:none;\">\n",
              "        \n",
              "  <svg xmlns=\"http://www.w3.org/2000/svg\" height=\"24px\"viewBox=\"0 0 24 24\"\n",
              "       width=\"24px\">\n",
              "    <path d=\"M0 0h24v24H0V0z\" fill=\"none\"/>\n",
              "    <path d=\"M18.56 5.44l.94 2.06.94-2.06 2.06-.94-2.06-.94-.94-2.06-.94 2.06-2.06.94zm-11 1L8.5 8.5l.94-2.06 2.06-.94-2.06-.94L8.5 2.5l-.94 2.06-2.06.94zm10 10l.94 2.06.94-2.06 2.06-.94-2.06-.94-.94-2.06-.94 2.06-2.06.94z\"/><path d=\"M17.41 7.96l-1.37-1.37c-.4-.4-.92-.59-1.43-.59-.52 0-1.04.2-1.43.59L10.3 9.45l-7.72 7.72c-.78.78-.78 2.05 0 2.83L4 21.41c.39.39.9.59 1.41.59.51 0 1.02-.2 1.41-.59l7.78-7.78 2.81-2.81c.8-.78.8-2.07 0-2.86zM5.41 20L4 18.59l7.72-7.72 1.47 1.35L5.41 20z\"/>\n",
              "  </svg>\n",
              "      </button>\n",
              "      \n",
              "  <style>\n",
              "    .colab-df-container {\n",
              "      display:flex;\n",
              "      flex-wrap:wrap;\n",
              "      gap: 12px;\n",
              "    }\n",
              "\n",
              "    .colab-df-convert {\n",
              "      background-color: #E8F0FE;\n",
              "      border: none;\n",
              "      border-radius: 50%;\n",
              "      cursor: pointer;\n",
              "      display: none;\n",
              "      fill: #1967D2;\n",
              "      height: 32px;\n",
              "      padding: 0 0 0 0;\n",
              "      width: 32px;\n",
              "    }\n",
              "\n",
              "    .colab-df-convert:hover {\n",
              "      background-color: #E2EBFA;\n",
              "      box-shadow: 0px 1px 2px rgba(60, 64, 67, 0.3), 0px 1px 3px 1px rgba(60, 64, 67, 0.15);\n",
              "      fill: #174EA6;\n",
              "    }\n",
              "\n",
              "    [theme=dark] .colab-df-convert {\n",
              "      background-color: #3B4455;\n",
              "      fill: #D2E3FC;\n",
              "    }\n",
              "\n",
              "    [theme=dark] .colab-df-convert:hover {\n",
              "      background-color: #434B5C;\n",
              "      box-shadow: 0px 1px 3px 1px rgba(0, 0, 0, 0.15);\n",
              "      filter: drop-shadow(0px 1px 2px rgba(0, 0, 0, 0.3));\n",
              "      fill: #FFFFFF;\n",
              "    }\n",
              "  </style>\n",
              "\n",
              "      <script>\n",
              "        const buttonEl =\n",
              "          document.querySelector('#df-66cee1eb-80bd-4dcc-82a4-1a878d07739c button.colab-df-convert');\n",
              "        buttonEl.style.display =\n",
              "          google.colab.kernel.accessAllowed ? 'block' : 'none';\n",
              "\n",
              "        async function convertToInteractive(key) {\n",
              "          const element = document.querySelector('#df-66cee1eb-80bd-4dcc-82a4-1a878d07739c');\n",
              "          const dataTable =\n",
              "            await google.colab.kernel.invokeFunction('convertToInteractive',\n",
              "                                                     [key], {});\n",
              "          if (!dataTable) return;\n",
              "\n",
              "          const docLinkHtml = 'Like what you see? Visit the ' +\n",
              "            '<a target=\"_blank\" href=https://colab.research.google.com/notebooks/data_table.ipynb>data table notebook</a>'\n",
              "            + ' to learn more about interactive tables.';\n",
              "          element.innerHTML = '';\n",
              "          dataTable['output_type'] = 'display_data';\n",
              "          await google.colab.output.renderOutput(dataTable, element);\n",
              "          const docLink = document.createElement('div');\n",
              "          docLink.innerHTML = docLinkHtml;\n",
              "          element.appendChild(docLink);\n",
              "        }\n",
              "      </script>\n",
              "    </div>\n",
              "  </div>\n",
              "  "
            ]
          },
          "metadata": {},
          "execution_count": 4
        }
      ]
    },
    {
      "cell_type": "code",
      "source": [
        "states = [\n",
        "    \"Arizona\", \"California\", \"Florida\", \"Illinois\",\n",
        "    \"Michigan\", \"New York\", \"Texas\"\n",
        "]\n",
        "unemp = unemp_all[states]\n",
        "unemp.head()"
      ],
      "metadata": {
        "colab": {
          "base_uri": "https://localhost:8080/",
          "height": 238
        },
        "id": "bTYuq3AYC4zG",
        "outputId": "4470ec9a-2d68-44e5-dc3c-3325c7ffc60d"
      },
      "execution_count": 5,
      "outputs": [
        {
          "output_type": "execute_result",
          "data": {
            "text/plain": [
              "state       Arizona  California  Florida  Illinois  Michigan  New York  Texas\n",
              "Date                                                                         \n",
              "2000-01-01      4.1         5.0      3.7       4.2       3.3       4.7    4.6\n",
              "2000-02-01      4.1         5.0      3.7       4.2       3.2       4.7    4.6\n",
              "2000-03-01      4.0         5.0      3.7       4.3       3.2       4.6    4.5\n",
              "2000-04-01      4.0         5.1      3.7       4.3       3.3       4.6    4.4\n",
              "2000-05-01      4.0         5.1      3.7       4.3       3.5       4.6    4.3"
            ],
            "text/html": [
              "\n",
              "  <div id=\"df-fffb9fcc-b9cb-4c79-81b6-98edfde88ad0\">\n",
              "    <div class=\"colab-df-container\">\n",
              "      <div>\n",
              "<style scoped>\n",
              "    .dataframe tbody tr th:only-of-type {\n",
              "        vertical-align: middle;\n",
              "    }\n",
              "\n",
              "    .dataframe tbody tr th {\n",
              "        vertical-align: top;\n",
              "    }\n",
              "\n",
              "    .dataframe thead th {\n",
              "        text-align: right;\n",
              "    }\n",
              "</style>\n",
              "<table border=\"1\" class=\"dataframe\">\n",
              "  <thead>\n",
              "    <tr style=\"text-align: right;\">\n",
              "      <th>state</th>\n",
              "      <th>Arizona</th>\n",
              "      <th>California</th>\n",
              "      <th>Florida</th>\n",
              "      <th>Illinois</th>\n",
              "      <th>Michigan</th>\n",
              "      <th>New York</th>\n",
              "      <th>Texas</th>\n",
              "    </tr>\n",
              "    <tr>\n",
              "      <th>Date</th>\n",
              "      <th></th>\n",
              "      <th></th>\n",
              "      <th></th>\n",
              "      <th></th>\n",
              "      <th></th>\n",
              "      <th></th>\n",
              "      <th></th>\n",
              "    </tr>\n",
              "  </thead>\n",
              "  <tbody>\n",
              "    <tr>\n",
              "      <th>2000-01-01</th>\n",
              "      <td>4.1</td>\n",
              "      <td>5.0</td>\n",
              "      <td>3.7</td>\n",
              "      <td>4.2</td>\n",
              "      <td>3.3</td>\n",
              "      <td>4.7</td>\n",
              "      <td>4.6</td>\n",
              "    </tr>\n",
              "    <tr>\n",
              "      <th>2000-02-01</th>\n",
              "      <td>4.1</td>\n",
              "      <td>5.0</td>\n",
              "      <td>3.7</td>\n",
              "      <td>4.2</td>\n",
              "      <td>3.2</td>\n",
              "      <td>4.7</td>\n",
              "      <td>4.6</td>\n",
              "    </tr>\n",
              "    <tr>\n",
              "      <th>2000-03-01</th>\n",
              "      <td>4.0</td>\n",
              "      <td>5.0</td>\n",
              "      <td>3.7</td>\n",
              "      <td>4.3</td>\n",
              "      <td>3.2</td>\n",
              "      <td>4.6</td>\n",
              "      <td>4.5</td>\n",
              "    </tr>\n",
              "    <tr>\n",
              "      <th>2000-04-01</th>\n",
              "      <td>4.0</td>\n",
              "      <td>5.1</td>\n",
              "      <td>3.7</td>\n",
              "      <td>4.3</td>\n",
              "      <td>3.3</td>\n",
              "      <td>4.6</td>\n",
              "      <td>4.4</td>\n",
              "    </tr>\n",
              "    <tr>\n",
              "      <th>2000-05-01</th>\n",
              "      <td>4.0</td>\n",
              "      <td>5.1</td>\n",
              "      <td>3.7</td>\n",
              "      <td>4.3</td>\n",
              "      <td>3.5</td>\n",
              "      <td>4.6</td>\n",
              "      <td>4.3</td>\n",
              "    </tr>\n",
              "  </tbody>\n",
              "</table>\n",
              "</div>\n",
              "      <button class=\"colab-df-convert\" onclick=\"convertToInteractive('df-fffb9fcc-b9cb-4c79-81b6-98edfde88ad0')\"\n",
              "              title=\"Convert this dataframe to an interactive table.\"\n",
              "              style=\"display:none;\">\n",
              "        \n",
              "  <svg xmlns=\"http://www.w3.org/2000/svg\" height=\"24px\"viewBox=\"0 0 24 24\"\n",
              "       width=\"24px\">\n",
              "    <path d=\"M0 0h24v24H0V0z\" fill=\"none\"/>\n",
              "    <path d=\"M18.56 5.44l.94 2.06.94-2.06 2.06-.94-2.06-.94-.94-2.06-.94 2.06-2.06.94zm-11 1L8.5 8.5l.94-2.06 2.06-.94-2.06-.94L8.5 2.5l-.94 2.06-2.06.94zm10 10l.94 2.06.94-2.06 2.06-.94-2.06-.94-.94-2.06-.94 2.06-2.06.94z\"/><path d=\"M17.41 7.96l-1.37-1.37c-.4-.4-.92-.59-1.43-.59-.52 0-1.04.2-1.43.59L10.3 9.45l-7.72 7.72c-.78.78-.78 2.05 0 2.83L4 21.41c.39.39.9.59 1.41.59.51 0 1.02-.2 1.41-.59l7.78-7.78 2.81-2.81c.8-.78.8-2.07 0-2.86zM5.41 20L4 18.59l7.72-7.72 1.47 1.35L5.41 20z\"/>\n",
              "  </svg>\n",
              "      </button>\n",
              "      \n",
              "  <style>\n",
              "    .colab-df-container {\n",
              "      display:flex;\n",
              "      flex-wrap:wrap;\n",
              "      gap: 12px;\n",
              "    }\n",
              "\n",
              "    .colab-df-convert {\n",
              "      background-color: #E8F0FE;\n",
              "      border: none;\n",
              "      border-radius: 50%;\n",
              "      cursor: pointer;\n",
              "      display: none;\n",
              "      fill: #1967D2;\n",
              "      height: 32px;\n",
              "      padding: 0 0 0 0;\n",
              "      width: 32px;\n",
              "    }\n",
              "\n",
              "    .colab-df-convert:hover {\n",
              "      background-color: #E2EBFA;\n",
              "      box-shadow: 0px 1px 2px rgba(60, 64, 67, 0.3), 0px 1px 3px 1px rgba(60, 64, 67, 0.15);\n",
              "      fill: #174EA6;\n",
              "    }\n",
              "\n",
              "    [theme=dark] .colab-df-convert {\n",
              "      background-color: #3B4455;\n",
              "      fill: #D2E3FC;\n",
              "    }\n",
              "\n",
              "    [theme=dark] .colab-df-convert:hover {\n",
              "      background-color: #434B5C;\n",
              "      box-shadow: 0px 1px 3px 1px rgba(0, 0, 0, 0.15);\n",
              "      filter: drop-shadow(0px 1px 2px rgba(0, 0, 0, 0.3));\n",
              "      fill: #FFFFFF;\n",
              "    }\n",
              "  </style>\n",
              "\n",
              "      <script>\n",
              "        const buttonEl =\n",
              "          document.querySelector('#df-fffb9fcc-b9cb-4c79-81b6-98edfde88ad0 button.colab-df-convert');\n",
              "        buttonEl.style.display =\n",
              "          google.colab.kernel.accessAllowed ? 'block' : 'none';\n",
              "\n",
              "        async function convertToInteractive(key) {\n",
              "          const element = document.querySelector('#df-fffb9fcc-b9cb-4c79-81b6-98edfde88ad0');\n",
              "          const dataTable =\n",
              "            await google.colab.kernel.invokeFunction('convertToInteractive',\n",
              "                                                     [key], {});\n",
              "          if (!dataTable) return;\n",
              "\n",
              "          const docLinkHtml = 'Like what you see? Visit the ' +\n",
              "            '<a target=\"_blank\" href=https://colab.research.google.com/notebooks/data_table.ipynb>data table notebook</a>'\n",
              "            + ' to learn more about interactive tables.';\n",
              "          element.innerHTML = '';\n",
              "          dataTable['output_type'] = 'display_data';\n",
              "          await google.colab.output.renderOutput(dataTable, element);\n",
              "          const docLink = document.createElement('div');\n",
              "          docLink.innerHTML = docLinkHtml;\n",
              "          element.appendChild(docLink);\n",
              "        }\n",
              "      </script>\n",
              "    </div>\n",
              "  </div>\n",
              "  "
            ]
          },
          "metadata": {},
          "execution_count": 5
        }
      ]
    },
    {
      "cell_type": "markdown",
      "source": [
        "# Exercise 1\n",
        "Looking at the displayed DataFrame above, can you identify the index? The columns?\n",
        "\n",
        "You can use the cell below to verify your visual intuition.\n",
        "\n"
      ],
      "metadata": {
        "id": "JPIcp4-kC-cE"
      }
    },
    {
      "cell_type": "code",
      "execution_count": 6,
      "metadata": {
        "colab": {
          "base_uri": "https://localhost:8080/"
        },
        "id": "VLYc_agUckZj",
        "outputId": "7f614bcc-741c-4feb-dcf1-0036d5974da6"
      },
      "outputs": [
        {
          "output_type": "execute_result",
          "data": {
            "text/plain": [
              "DatetimeIndex(['2000-01-01', '2000-02-01', '2000-03-01', '2000-04-01',\n",
              "               '2000-05-01', '2000-06-01', '2000-07-01', '2000-08-01',\n",
              "               '2000-09-01', '2000-10-01',\n",
              "               ...\n",
              "               '2017-03-01', '2017-04-01', '2017-05-01', '2017-06-01',\n",
              "               '2017-07-01', '2017-08-01', '2017-09-01', '2017-10-01',\n",
              "               '2017-11-01', '2017-12-01'],\n",
              "              dtype='datetime64[ns]', name='Date', length=216, freq=None)"
            ]
          },
          "metadata": {},
          "execution_count": 6
        }
      ],
      "source": [
        "unemp.index"
      ]
    },
    {
      "cell_type": "code",
      "source": [
        "unemp.columns"
      ],
      "metadata": {
        "colab": {
          "base_uri": "https://localhost:8080/"
        },
        "id": "alpiiM6AC9zu",
        "outputId": "5e723d6c-7f44-49bf-b968-6c871fcef7a3"
      },
      "execution_count": 7,
      "outputs": [
        {
          "output_type": "execute_result",
          "data": {
            "text/plain": [
              "Index(['Arizona', 'California', 'Florida', 'Illinois', 'Michigan', 'New York',\n",
              "       'Texas'],\n",
              "      dtype='object', name='state')"
            ]
          },
          "metadata": {},
          "execution_count": 7
        }
      ]
    },
    {
      "cell_type": "markdown",
      "source": [
        "# Exercise 2\n",
        "Do the following exercises in separate code cells below:\n",
        "\n",
        "At each date, what is the minimum unemployment rate across all states in our sample?\n",
        "\n",
        "What was the median unemployment rate in each state?\n",
        "\n",
        "What was the maximum unemployment rate across the states in our sample? What state did it happen in? In what month/year was this achieved?\n",
        "\n",
        "Classify each state as high or low volatility based on whether the variance of their unemployment is above or below 4."
      ],
      "metadata": {
        "id": "pKQAUPJID3ej"
      }
    },
    {
      "cell_type": "code",
      "source": [
        "# At each date, what is the minimum unemployment rate across all states in our sample?\n",
        "unemp_raw.groupby('Date')['UnemploymentRate'].min()\n"
      ],
      "metadata": {
        "colab": {
          "base_uri": "https://localhost:8080/"
        },
        "id": "jGIt0W7_DA0s",
        "outputId": "16c235f2-6441-4c52-886c-ee672efa8468"
      },
      "execution_count": 8,
      "outputs": [
        {
          "output_type": "execute_result",
          "data": {
            "text/plain": [
              "Date\n",
              "2000-01-01    2.4\n",
              "2000-02-01    2.4\n",
              "2000-03-01    2.4\n",
              "2000-04-01    2.4\n",
              "2000-05-01    2.3\n",
              "             ... \n",
              "2017-08-01    2.2\n",
              "2017-09-01    2.2\n",
              "2017-10-01    2.1\n",
              "2017-11-01    2.1\n",
              "2017-12-01    2.1\n",
              "Name: UnemploymentRate, Length: 216, dtype: float64"
            ]
          },
          "metadata": {},
          "execution_count": 8
        }
      ]
    },
    {
      "cell_type": "code",
      "source": [
        "# What was the median unemployment rate in each state?\n",
        "unemp_raw.groupby('state')['UnemploymentRate'].median()\n"
      ],
      "metadata": {
        "colab": {
          "base_uri": "https://localhost:8080/"
        },
        "id": "GFFtXlCtEsO7",
        "outputId": "3bfd3301-5f15-4a89-9d23-184d88480dc9"
      },
      "execution_count": 9,
      "outputs": [
        {
          "output_type": "execute_result",
          "data": {
            "text/plain": [
              "state\n",
              "Alabama           5.90\n",
              "Alaska            7.00\n",
              "Arizona           5.80\n",
              "Arkansas          5.50\n",
              "California        6.50\n",
              "Colorado          5.20\n",
              "Connecticut       5.30\n",
              "Delaware          4.50\n",
              "Florida           5.35\n",
              "Georgia           5.30\n",
              "Hawaii            4.10\n",
              "Idaho             5.00\n",
              "Illinois          6.15\n",
              "Indiana           5.30\n",
              "Iowa              4.20\n",
              "Kansas            4.90\n",
              "Kentucky          5.70\n",
              "Louisiana         6.10\n",
              "Maine             4.80\n",
              "Maryland          4.40\n",
              "Massachusetts     5.10\n",
              "Michigan          7.00\n",
              "Minnesota         4.50\n",
              "Mississippi       6.60\n",
              "Missouri          5.50\n",
              "Montana           4.60\n",
              "Nebraska          3.60\n",
              "Nevada            5.65\n",
              "New Hampshire     3.80\n",
              "New Mexico        6.00\n",
              "New York          5.70\n",
              "New jersey        5.40\n",
              "North Carolina    5.90\n",
              "North Dakota      3.20\n",
              "Ohio              5.80\n",
              "Oklahoma          4.60\n",
              "Oregon            6.85\n",
              "Pennsylvania      5.45\n",
              "Rhode island      5.40\n",
              "South Carolina    6.60\n",
              "South Dakota      3.40\n",
              "Tennessee         5.60\n",
              "Texas             5.40\n",
              "Utah              4.20\n",
              "Vermont           3.90\n",
              "Virginia          4.15\n",
              "Washington        6.00\n",
              "West Virginia     5.95\n",
              "Wisconsin         5.00\n",
              "Wyoming           4.10\n",
              "Name: UnemploymentRate, dtype: float64"
            ]
          },
          "metadata": {},
          "execution_count": 9
        }
      ]
    },
    {
      "cell_type": "code",
      "source": [
        "# What was the maximum unemployment rate across the states in our sample?\n",
        "# What state did it happen in? In what month/year was this achieved?\n",
        "\n",
        "max_unemployment = unemp_raw['UnemploymentRate'].max()\n",
        "max_unemployment_state = unemp_raw[unemp_raw['UnemploymentRate'] == max_unemployment]['state'].iloc[0]\n",
        "max_unemployment_date = unemp_raw[unemp_raw['UnemploymentRate'] == max_unemployment]['Date'].iloc[0]\n",
        "\n",
        "print(\"Max Unemployment:\", max_unemployment)\n",
        "print(\"Max Unemployment State:\", max_unemployment_state)\n",
        "print(\"Max Unemployment Date:\", max_unemployment_date)\n"
      ],
      "metadata": {
        "colab": {
          "base_uri": "https://localhost:8080/"
        },
        "id": "x4YHnZKiEwCA",
        "outputId": "2c8212a9-937c-4bee-d114-468d2cb0b188"
      },
      "execution_count": 10,
      "outputs": [
        {
          "output_type": "stream",
          "name": "stdout",
          "text": [
            "Max Unemployment: 14.6\n",
            "Max Unemployment State: Michigan\n",
            "Max Unemployment Date: 2009-06-01 00:00:00\n"
          ]
        }
      ]
    },
    {
      "cell_type": "code",
      "source": [
        "# Classify each state as high or low volatility based on whether the variance\n",
        "# of their unemployment is above or below 4.\n",
        "\n",
        "state_volatility = unemp_raw.groupby('state')['UnemploymentRate'].var()\n",
        "state_volatility = state_volatility.apply(lambda x: 'High' if x > 4 else 'Low')\n",
        "state_volatility"
      ],
      "metadata": {
        "colab": {
          "base_uri": "https://localhost:8080/"
        },
        "id": "pDUiMGehE0kR",
        "outputId": "7fac8c86-058f-45db-b70e-769e38bbb7c1"
      },
      "execution_count": 11,
      "outputs": [
        {
          "output_type": "execute_result",
          "data": {
            "text/plain": [
              "state\n",
              "Alabama           High\n",
              "Alaska             Low\n",
              "Arizona           High\n",
              "Arkansas           Low\n",
              "California        High\n",
              "Colorado           Low\n",
              "Connecticut        Low\n",
              "Delaware           Low\n",
              "Florida           High\n",
              "Georgia           High\n",
              "Hawaii             Low\n",
              "Idaho              Low\n",
              "Illinois           Low\n",
              "Indiana           High\n",
              "Iowa               Low\n",
              "Kansas             Low\n",
              "Kentucky           Low\n",
              "Louisiana          Low\n",
              "Maine              Low\n",
              "Maryland           Low\n",
              "Massachusetts      Low\n",
              "Michigan          High\n",
              "Minnesota          Low\n",
              "Mississippi        Low\n",
              "Missouri           Low\n",
              "Montana            Low\n",
              "Nebraska           Low\n",
              "Nevada            High\n",
              "New Hampshire      Low\n",
              "New Mexico         Low\n",
              "New York           Low\n",
              "New jersey         Low\n",
              "North Carolina    High\n",
              "North Dakota       Low\n",
              "Ohio               Low\n",
              "Oklahoma           Low\n",
              "Oregon            High\n",
              "Pennsylvania       Low\n",
              "Rhode island      High\n",
              "South Carolina    High\n",
              "South Dakota       Low\n",
              "Tennessee          Low\n",
              "Texas              Low\n",
              "Utah               Low\n",
              "Vermont            Low\n",
              "Virginia           Low\n",
              "Washington         Low\n",
              "West Virginia      Low\n",
              "Wisconsin          Low\n",
              "Wyoming            Low\n",
              "Name: UnemploymentRate, dtype: object"
            ]
          },
          "metadata": {},
          "execution_count": 11
        }
      ]
    },
    {
      "cell_type": "markdown",
      "source": [
        "# Exercise 3\n",
        "\n",
        "Imagine that we want to determine whether unemployment was high (> 6.5), medium (4.5 < x <= 6.5), or low (<= 4.5) for each state and each month.\n",
        "\n",
        "Write a Python function that takes a single number as an input and outputs a single string noting if that number is high, medium, or low.\n",
        "\n",
        "Pass your function to applymap (quiz: why applymap and not agg or apply?) and save the result in a new DataFrame called unemp_bins.\n",
        "\n",
        "(Challenging) This exercise has multiple parts:\n",
        "\n",
        "Use another transform on unemp_bins to count how many times each state had each of the three classifications.\n",
        "\n",
        "Construct a horizontal bar chart of the number of occurrences of each level with one bar per state and classification (21 total bars).\n",
        "\n",
        "(Challenging) Repeat the previous step, but count how many states had each classification in each month. Which month had the most states with high unemployment? What about medium and low?"
      ],
      "metadata": {
        "id": "SenyFCe2F8pp"
      }
    },
    {
      "cell_type": "code",
      "source": [
        "# Part 1: Write a Python function to classify unemployment levels.\n",
        "def classify_unemployment(unemployment):\n",
        "    if unemployment > 6.5:\n",
        "        return 'High'\n",
        "    elif unemployment > 4.5:\n",
        "        return 'Medium'\n",
        "    else:\n",
        "        return 'Low'\n"
      ],
      "metadata": {
        "id": "VpfRTLt-E8KC"
      },
      "execution_count": 12,
      "outputs": []
    },
    {
      "cell_type": "code",
      "source": [
        "# Part 2: Pass your function from part 1 to applymap\n",
        "\n",
        "unemp_bins = unemp.applymap(classify_unemployment)\n",
        "unemp_bins"
      ],
      "metadata": {
        "colab": {
          "base_uri": "https://localhost:8080/",
          "height": 455
        },
        "id": "OcyEG09fHg8d",
        "outputId": "61c4c965-3fc1-4e9c-a6a4-b5677deca1da"
      },
      "execution_count": 13,
      "outputs": [
        {
          "output_type": "execute_result",
          "data": {
            "text/plain": [
              "state      Arizona California Florida Illinois Michigan New York   Texas\n",
              "Date                                                                    \n",
              "2000-01-01     Low     Medium     Low      Low      Low   Medium  Medium\n",
              "2000-02-01     Low     Medium     Low      Low      Low   Medium  Medium\n",
              "2000-03-01     Low     Medium     Low      Low      Low   Medium     Low\n",
              "2000-04-01     Low     Medium     Low      Low      Low   Medium     Low\n",
              "2000-05-01     Low     Medium     Low      Low      Low   Medium     Low\n",
              "...            ...        ...     ...      ...      ...      ...     ...\n",
              "2017-08-01  Medium     Medium     Low   Medium   Medium   Medium     Low\n",
              "2017-09-01  Medium        Low     Low   Medium   Medium   Medium     Low\n",
              "2017-10-01  Medium        Low     Low   Medium   Medium   Medium     Low\n",
              "2017-11-01  Medium        Low     Low   Medium   Medium   Medium     Low\n",
              "2017-12-01  Medium        Low     Low   Medium   Medium   Medium     Low\n",
              "\n",
              "[216 rows x 7 columns]"
            ],
            "text/html": [
              "\n",
              "  <div id=\"df-16d0e778-6ee5-408c-a76a-3fd2430e0615\">\n",
              "    <div class=\"colab-df-container\">\n",
              "      <div>\n",
              "<style scoped>\n",
              "    .dataframe tbody tr th:only-of-type {\n",
              "        vertical-align: middle;\n",
              "    }\n",
              "\n",
              "    .dataframe tbody tr th {\n",
              "        vertical-align: top;\n",
              "    }\n",
              "\n",
              "    .dataframe thead th {\n",
              "        text-align: right;\n",
              "    }\n",
              "</style>\n",
              "<table border=\"1\" class=\"dataframe\">\n",
              "  <thead>\n",
              "    <tr style=\"text-align: right;\">\n",
              "      <th>state</th>\n",
              "      <th>Arizona</th>\n",
              "      <th>California</th>\n",
              "      <th>Florida</th>\n",
              "      <th>Illinois</th>\n",
              "      <th>Michigan</th>\n",
              "      <th>New York</th>\n",
              "      <th>Texas</th>\n",
              "    </tr>\n",
              "    <tr>\n",
              "      <th>Date</th>\n",
              "      <th></th>\n",
              "      <th></th>\n",
              "      <th></th>\n",
              "      <th></th>\n",
              "      <th></th>\n",
              "      <th></th>\n",
              "      <th></th>\n",
              "    </tr>\n",
              "  </thead>\n",
              "  <tbody>\n",
              "    <tr>\n",
              "      <th>2000-01-01</th>\n",
              "      <td>Low</td>\n",
              "      <td>Medium</td>\n",
              "      <td>Low</td>\n",
              "      <td>Low</td>\n",
              "      <td>Low</td>\n",
              "      <td>Medium</td>\n",
              "      <td>Medium</td>\n",
              "    </tr>\n",
              "    <tr>\n",
              "      <th>2000-02-01</th>\n",
              "      <td>Low</td>\n",
              "      <td>Medium</td>\n",
              "      <td>Low</td>\n",
              "      <td>Low</td>\n",
              "      <td>Low</td>\n",
              "      <td>Medium</td>\n",
              "      <td>Medium</td>\n",
              "    </tr>\n",
              "    <tr>\n",
              "      <th>2000-03-01</th>\n",
              "      <td>Low</td>\n",
              "      <td>Medium</td>\n",
              "      <td>Low</td>\n",
              "      <td>Low</td>\n",
              "      <td>Low</td>\n",
              "      <td>Medium</td>\n",
              "      <td>Low</td>\n",
              "    </tr>\n",
              "    <tr>\n",
              "      <th>2000-04-01</th>\n",
              "      <td>Low</td>\n",
              "      <td>Medium</td>\n",
              "      <td>Low</td>\n",
              "      <td>Low</td>\n",
              "      <td>Low</td>\n",
              "      <td>Medium</td>\n",
              "      <td>Low</td>\n",
              "    </tr>\n",
              "    <tr>\n",
              "      <th>2000-05-01</th>\n",
              "      <td>Low</td>\n",
              "      <td>Medium</td>\n",
              "      <td>Low</td>\n",
              "      <td>Low</td>\n",
              "      <td>Low</td>\n",
              "      <td>Medium</td>\n",
              "      <td>Low</td>\n",
              "    </tr>\n",
              "    <tr>\n",
              "      <th>...</th>\n",
              "      <td>...</td>\n",
              "      <td>...</td>\n",
              "      <td>...</td>\n",
              "      <td>...</td>\n",
              "      <td>...</td>\n",
              "      <td>...</td>\n",
              "      <td>...</td>\n",
              "    </tr>\n",
              "    <tr>\n",
              "      <th>2017-08-01</th>\n",
              "      <td>Medium</td>\n",
              "      <td>Medium</td>\n",
              "      <td>Low</td>\n",
              "      <td>Medium</td>\n",
              "      <td>Medium</td>\n",
              "      <td>Medium</td>\n",
              "      <td>Low</td>\n",
              "    </tr>\n",
              "    <tr>\n",
              "      <th>2017-09-01</th>\n",
              "      <td>Medium</td>\n",
              "      <td>Low</td>\n",
              "      <td>Low</td>\n",
              "      <td>Medium</td>\n",
              "      <td>Medium</td>\n",
              "      <td>Medium</td>\n",
              "      <td>Low</td>\n",
              "    </tr>\n",
              "    <tr>\n",
              "      <th>2017-10-01</th>\n",
              "      <td>Medium</td>\n",
              "      <td>Low</td>\n",
              "      <td>Low</td>\n",
              "      <td>Medium</td>\n",
              "      <td>Medium</td>\n",
              "      <td>Medium</td>\n",
              "      <td>Low</td>\n",
              "    </tr>\n",
              "    <tr>\n",
              "      <th>2017-11-01</th>\n",
              "      <td>Medium</td>\n",
              "      <td>Low</td>\n",
              "      <td>Low</td>\n",
              "      <td>Medium</td>\n",
              "      <td>Medium</td>\n",
              "      <td>Medium</td>\n",
              "      <td>Low</td>\n",
              "    </tr>\n",
              "    <tr>\n",
              "      <th>2017-12-01</th>\n",
              "      <td>Medium</td>\n",
              "      <td>Low</td>\n",
              "      <td>Low</td>\n",
              "      <td>Medium</td>\n",
              "      <td>Medium</td>\n",
              "      <td>Medium</td>\n",
              "      <td>Low</td>\n",
              "    </tr>\n",
              "  </tbody>\n",
              "</table>\n",
              "<p>216 rows × 7 columns</p>\n",
              "</div>\n",
              "      <button class=\"colab-df-convert\" onclick=\"convertToInteractive('df-16d0e778-6ee5-408c-a76a-3fd2430e0615')\"\n",
              "              title=\"Convert this dataframe to an interactive table.\"\n",
              "              style=\"display:none;\">\n",
              "        \n",
              "  <svg xmlns=\"http://www.w3.org/2000/svg\" height=\"24px\"viewBox=\"0 0 24 24\"\n",
              "       width=\"24px\">\n",
              "    <path d=\"M0 0h24v24H0V0z\" fill=\"none\"/>\n",
              "    <path d=\"M18.56 5.44l.94 2.06.94-2.06 2.06-.94-2.06-.94-.94-2.06-.94 2.06-2.06.94zm-11 1L8.5 8.5l.94-2.06 2.06-.94-2.06-.94L8.5 2.5l-.94 2.06-2.06.94zm10 10l.94 2.06.94-2.06 2.06-.94-2.06-.94-.94-2.06-.94 2.06-2.06.94z\"/><path d=\"M17.41 7.96l-1.37-1.37c-.4-.4-.92-.59-1.43-.59-.52 0-1.04.2-1.43.59L10.3 9.45l-7.72 7.72c-.78.78-.78 2.05 0 2.83L4 21.41c.39.39.9.59 1.41.59.51 0 1.02-.2 1.41-.59l7.78-7.78 2.81-2.81c.8-.78.8-2.07 0-2.86zM5.41 20L4 18.59l7.72-7.72 1.47 1.35L5.41 20z\"/>\n",
              "  </svg>\n",
              "      </button>\n",
              "      \n",
              "  <style>\n",
              "    .colab-df-container {\n",
              "      display:flex;\n",
              "      flex-wrap:wrap;\n",
              "      gap: 12px;\n",
              "    }\n",
              "\n",
              "    .colab-df-convert {\n",
              "      background-color: #E8F0FE;\n",
              "      border: none;\n",
              "      border-radius: 50%;\n",
              "      cursor: pointer;\n",
              "      display: none;\n",
              "      fill: #1967D2;\n",
              "      height: 32px;\n",
              "      padding: 0 0 0 0;\n",
              "      width: 32px;\n",
              "    }\n",
              "\n",
              "    .colab-df-convert:hover {\n",
              "      background-color: #E2EBFA;\n",
              "      box-shadow: 0px 1px 2px rgba(60, 64, 67, 0.3), 0px 1px 3px 1px rgba(60, 64, 67, 0.15);\n",
              "      fill: #174EA6;\n",
              "    }\n",
              "\n",
              "    [theme=dark] .colab-df-convert {\n",
              "      background-color: #3B4455;\n",
              "      fill: #D2E3FC;\n",
              "    }\n",
              "\n",
              "    [theme=dark] .colab-df-convert:hover {\n",
              "      background-color: #434B5C;\n",
              "      box-shadow: 0px 1px 3px 1px rgba(0, 0, 0, 0.15);\n",
              "      filter: drop-shadow(0px 1px 2px rgba(0, 0, 0, 0.3));\n",
              "      fill: #FFFFFF;\n",
              "    }\n",
              "  </style>\n",
              "\n",
              "      <script>\n",
              "        const buttonEl =\n",
              "          document.querySelector('#df-16d0e778-6ee5-408c-a76a-3fd2430e0615 button.colab-df-convert');\n",
              "        buttonEl.style.display =\n",
              "          google.colab.kernel.accessAllowed ? 'block' : 'none';\n",
              "\n",
              "        async function convertToInteractive(key) {\n",
              "          const element = document.querySelector('#df-16d0e778-6ee5-408c-a76a-3fd2430e0615');\n",
              "          const dataTable =\n",
              "            await google.colab.kernel.invokeFunction('convertToInteractive',\n",
              "                                                     [key], {});\n",
              "          if (!dataTable) return;\n",
              "\n",
              "          const docLinkHtml = 'Like what you see? Visit the ' +\n",
              "            '<a target=\"_blank\" href=https://colab.research.google.com/notebooks/data_table.ipynb>data table notebook</a>'\n",
              "            + ' to learn more about interactive tables.';\n",
              "          element.innerHTML = '';\n",
              "          dataTable['output_type'] = 'display_data';\n",
              "          await google.colab.output.renderOutput(dataTable, element);\n",
              "          const docLink = document.createElement('div');\n",
              "          docLink.innerHTML = docLinkHtml;\n",
              "          element.appendChild(docLink);\n",
              "        }\n",
              "      </script>\n",
              "    </div>\n",
              "  </div>\n",
              "  "
            ]
          },
          "metadata": {},
          "execution_count": 13
        }
      ]
    },
    {
      "cell_type": "code",
      "source": [
        "# Part 3: Count the number of times each state had each classification.\n",
        "\n",
        "counts = unemp_bins.apply(pd.value_counts)\n",
        "counts = counts.fillna(0)\n",
        "\n",
        "counts.plot(kind='barh', stacked=True)\n"
      ],
      "metadata": {
        "colab": {
          "base_uri": "https://localhost:8080/",
          "height": 282
        },
        "id": "IL2VyZPsH0Zj",
        "outputId": "d35da880-3122-40c4-96eb-cdaf09afbc53"
      },
      "execution_count": 14,
      "outputs": [
        {
          "output_type": "execute_result",
          "data": {
            "text/plain": [
              "<matplotlib.axes._subplots.AxesSubplot at 0x7f84fa5c40d0>"
            ]
          },
          "metadata": {},
          "execution_count": 14
        },
        {
          "output_type": "display_data",
          "data": {
            "text/plain": [
              "<Figure size 432x288 with 1 Axes>"
            ],
            "image/png": "[encoded data removed]"
          },
          "metadata": {
            "needs_background": "light"
          }
        }
      ]
    },
    {
      "cell_type": "code",
      "source": [
        "state_counts = unemp_bins.transpose().apply(pd.value_counts, axis=1)\n",
        "state_counts = state_counts.fillna(0)\n",
        "\n",
        "state_counts.plot(kind='bar', stacked=True)"
      ],
      "metadata": {
        "colab": {
          "base_uri": "https://localhost:8080/",
          "height": 334
        },
        "id": "_mLxQl8Fq_9v",
        "outputId": "246c0e12-c0eb-455e-d065-4cc656bf4b29"
      },
      "execution_count": 22,
      "outputs": [
        {
          "output_type": "execute_result",
          "data": {
            "text/plain": [
              "<matplotlib.axes._subplots.AxesSubplot at 0x7f84f92f3d30>"
            ]
          },
          "metadata": {},
          "execution_count": 22
        },
        {
          "output_type": "display_data",
          "data": {
            "text/plain": [
              "<Figure size 432x288 with 1 Axes>"
            ],
            "image/png": "[encoded data removed]"
          },
          "metadata": {
            "needs_background": "light"
          }
        }
      ]
    },
    {
      "cell_type": "code",
      "source": [
        "# Part 4: Apply the same transform from part 4, but to each date instead of to each state.\n",
        "\n",
        "monthly_counts = unemp_bins.transpose()\n",
        "monthly_counts_fillna = monthly_counts.apply(pd.value_counts).transpose().fillna(0)\n",
        "monthly_counts_fillna"
      ],
      "metadata": {
        "colab": {
          "base_uri": "https://localhost:8080/",
          "height": 455
        },
        "id": "-HpsppB5Ac1g",
        "outputId": "c7cef130-4e98-46e4-efa5-fc864a447467"
      },
      "execution_count": 39,
      "outputs": [
        {
          "output_type": "execute_result",
          "data": {
            "text/plain": [
              "            High  Low  Medium\n",
              "Date                         \n",
              "2000-01-01   0.0  4.0     3.0\n",
              "2000-02-01   0.0  4.0     3.0\n",
              "2000-03-01   0.0  5.0     2.0\n",
              "2000-04-01   0.0  5.0     2.0\n",
              "2000-05-01   0.0  5.0     2.0\n",
              "...          ...  ...     ...\n",
              "2017-08-01   0.0  2.0     5.0\n",
              "2017-09-01   0.0  3.0     4.0\n",
              "2017-10-01   0.0  3.0     4.0\n",
              "2017-11-01   0.0  3.0     4.0\n",
              "2017-12-01   0.0  3.0     4.0\n",
              "\n",
              "[216 rows x 3 columns]"
            ],
            "text/html": [
              "\n",
              "  <div id=\"df-98b6ae4e-a94c-4aa0-a84f-592de5311a39\">\n",
              "    <div class=\"colab-df-container\">\n",
              "      <div>\n",
              "<style scoped>\n",
              "    .dataframe tbody tr th:only-of-type {\n",
              "        vertical-align: middle;\n",
              "    }\n",
              "\n",
              "    .dataframe tbody tr th {\n",
              "        vertical-align: top;\n",
              "    }\n",
              "\n",
              "    .dataframe thead th {\n",
              "        text-align: right;\n",
              "    }\n",
              "</style>\n",
              "<table border=\"1\" class=\"dataframe\">\n",
              "  <thead>\n",
              "    <tr style=\"text-align: right;\">\n",
              "      <th></th>\n",
              "      <th>High</th>\n",
              "      <th>Low</th>\n",
              "      <th>Medium</th>\n",
              "    </tr>\n",
              "    <tr>\n",
              "      <th>Date</th>\n",
              "      <th></th>\n",
              "      <th></th>\n",
              "      <th></th>\n",
              "    </tr>\n",
              "  </thead>\n",
              "  <tbody>\n",
              "    <tr>\n",
              "      <th>2000-01-01</th>\n",
              "      <td>0.0</td>\n",
              "      <td>4.0</td>\n",
              "      <td>3.0</td>\n",
              "    </tr>\n",
              "    <tr>\n",
              "      <th>2000-02-01</th>\n",
              "      <td>0.0</td>\n",
              "      <td>4.0</td>\n",
              "      <td>3.0</td>\n",
              "    </tr>\n",
              "    <tr>\n",
              "      <th>2000-03-01</th>\n",
              "      <td>0.0</td>\n",
              "      <td>5.0</td>\n",
              "      <td>2.0</td>\n",
              "    </tr>\n",
              "    <tr>\n",
              "      <th>2000-04-01</th>\n",
              "      <td>0.0</td>\n",
              "      <td>5.0</td>\n",
              "      <td>2.0</td>\n",
              "    </tr>\n",
              "    <tr>\n",
              "      <th>2000-05-01</th>\n",
              "      <td>0.0</td>\n",
              "      <td>5.0</td>\n",
              "      <td>2.0</td>\n",
              "    </tr>\n",
              "    <tr>\n",
              "      <th>...</th>\n",
              "      <td>...</td>\n",
              "      <td>...</td>\n",
              "      <td>...</td>\n",
              "    </tr>\n",
              "    <tr>\n",
              "      <th>2017-08-01</th>\n",
              "      <td>0.0</td>\n",
              "      <td>2.0</td>\n",
              "      <td>5.0</td>\n",
              "    </tr>\n",
              "    <tr>\n",
              "      <th>2017-09-01</th>\n",
              "      <td>0.0</td>\n",
              "      <td>3.0</td>\n",
              "      <td>4.0</td>\n",
              "    </tr>\n",
              "    <tr>\n",
              "      <th>2017-10-01</th>\n",
              "      <td>0.0</td>\n",
              "      <td>3.0</td>\n",
              "      <td>4.0</td>\n",
              "    </tr>\n",
              "    <tr>\n",
              "      <th>2017-11-01</th>\n",
              "      <td>0.0</td>\n",
              "      <td>3.0</td>\n",
              "      <td>4.0</td>\n",
              "    </tr>\n",
              "    <tr>\n",
              "      <th>2017-12-01</th>\n",
              "      <td>0.0</td>\n",
              "      <td>3.0</td>\n",
              "      <td>4.0</td>\n",
              "    </tr>\n",
              "  </tbody>\n",
              "</table>\n",
              "<p>216 rows × 3 columns</p>\n",
              "</div>\n",
              "      <button class=\"colab-df-convert\" onclick=\"convertToInteractive('df-98b6ae4e-a94c-4aa0-a84f-592de5311a39')\"\n",
              "              title=\"Convert this dataframe to an interactive table.\"\n",
              "              style=\"display:none;\">\n",
              "        \n",
              "  <svg xmlns=\"http://www.w3.org/2000/svg\" height=\"24px\"viewBox=\"0 0 24 24\"\n",
              "       width=\"24px\">\n",
              "    <path d=\"M0 0h24v24H0V0z\" fill=\"none\"/>\n",
              "    <path d=\"M18.56 5.44l.94 2.06.94-2.06 2.06-.94-2.06-.94-.94-2.06-.94 2.06-2.06.94zm-11 1L8.5 8.5l.94-2.06 2.06-.94-2.06-.94L8.5 2.5l-.94 2.06-2.06.94zm10 10l.94 2.06.94-2.06 2.06-.94-2.06-.94-.94-2.06-.94 2.06-2.06.94z\"/><path d=\"M17.41 7.96l-1.37-1.37c-.4-.4-.92-.59-1.43-.59-.52 0-1.04.2-1.43.59L10.3 9.45l-7.72 7.72c-.78.78-.78 2.05 0 2.83L4 21.41c.39.39.9.59 1.41.59.51 0 1.02-.2 1.41-.59l7.78-7.78 2.81-2.81c.8-.78.8-2.07 0-2.86zM5.41 20L4 18.59l7.72-7.72 1.47 1.35L5.41 20z\"/>\n",
              "  </svg>\n",
              "      </button>\n",
              "      \n",
              "  <style>\n",
              "    .colab-df-container {\n",
              "      display:flex;\n",
              "      flex-wrap:wrap;\n",
              "      gap: 12px;\n",
              "    }\n",
              "\n",
              "    .colab-df-convert {\n",
              "      background-color: #E8F0FE;\n",
              "      border: none;\n",
              "      border-radius: 50%;\n",
              "      cursor: pointer;\n",
              "      display: none;\n",
              "      fill: #1967D2;\n",
              "      height: 32px;\n",
              "      padding: 0 0 0 0;\n",
              "      width: 32px;\n",
              "    }\n",
              "\n",
              "    .colab-df-convert:hover {\n",
              "      background-color: #E2EBFA;\n",
              "      box-shadow: 0px 1px 2px rgba(60, 64, 67, 0.3), 0px 1px 3px 1px rgba(60, 64, 67, 0.15);\n",
              "      fill: #174EA6;\n",
              "    }\n",
              "\n",
              "    [theme=dark] .colab-df-convert {\n",
              "      background-color: #3B4455;\n",
              "      fill: #D2E3FC;\n",
              "    }\n",
              "\n",
              "    [theme=dark] .colab-df-convert:hover {\n",
              "      background-color: #434B5C;\n",
              "      box-shadow: 0px 1px 3px 1px rgba(0, 0, 0, 0.15);\n",
              "      filter: drop-shadow(0px 1px 2px rgba(0, 0, 0, 0.3));\n",
              "      fill: #FFFFFF;\n",
              "    }\n",
              "  </style>\n",
              "\n",
              "      <script>\n",
              "        const buttonEl =\n",
              "          document.querySelector('#df-98b6ae4e-a94c-4aa0-a84f-592de5311a39 button.colab-df-convert');\n",
              "        buttonEl.style.display =\n",
              "          google.colab.kernel.accessAllowed ? 'block' : 'none';\n",
              "\n",
              "        async function convertToInteractive(key) {\n",
              "          const element = document.querySelector('#df-98b6ae4e-a94c-4aa0-a84f-592de5311a39');\n",
              "          const dataTable =\n",
              "            await google.colab.kernel.invokeFunction('convertToInteractive',\n",
              "                                                     [key], {});\n",
              "          if (!dataTable) return;\n",
              "\n",
              "          const docLinkHtml = 'Like what you see? Visit the ' +\n",
              "            '<a target=\"_blank\" href=https://colab.research.google.com/notebooks/data_table.ipynb>data table notebook</a>'\n",
              "            + ' to learn more about interactive tables.';\n",
              "          element.innerHTML = '';\n",
              "          dataTable['output_type'] = 'display_data';\n",
              "          await google.colab.output.renderOutput(dataTable, element);\n",
              "          const docLink = document.createElement('div');\n",
              "          docLink.innerHTML = docLinkHtml;\n",
              "          element.appendChild(docLink);\n",
              "        }\n",
              "      </script>\n",
              "    </div>\n",
              "  </div>\n",
              "  "
            ]
          },
          "metadata": {},
          "execution_count": 39
        }
      ]
    },
    {
      "cell_type": "code",
      "source": [
        "# bar chart\n",
        "monthly_counts_fillna.plot(kind='bar', stacked=True)\n",
        "plt.xticks([])  # disable x-axis ticks\n",
        "plt.xlabel('')  # remove x-axis label\n",
        "plt.show()"
      ],
      "metadata": {
        "colab": {
          "base_uri": "https://localhost:8080/",
          "height": 254
        },
        "id": "emx902H6uYxV",
        "outputId": "f3baf805-a44d-49d6-9097-bd1ec7d02691"
      },
      "execution_count": 40,
      "outputs": [
        {
          "output_type": "display_data",
          "data": {
            "text/plain": [
              "<Figure size 432x288 with 1 Axes>"
            ],
            "image/png": "[encoded data removed]"
          },
          "metadata": {
            "needs_background": "light"
          }
        }
      ]
    },
    {
      "cell_type": "code",
      "source": [
        "# count how many states had each classification in each month\n",
        "months_with_all = monthly_counts.apply(pd.value_counts).transpose().dropna().shape[0] \n",
        "months_with_all"
      ],
      "metadata": {
        "colab": {
          "base_uri": "https://localhost:8080/"
        },
        "id": "ocXnUCekBPkP",
        "outputId": "8046a253-b122-4585-e2e3-6fff7b158f81"
      },
      "execution_count": 55,
      "outputs": [
        {
          "output_type": "execute_result",
          "data": {
            "text/plain": [
              "48"
            ]
          },
          "metadata": {},
          "execution_count": 55
        }
      ]
    },
    {
      "cell_type": "code",
      "source": [
        "# Which month had the most states with high unemployment?\n",
        "high_unemp_month = monthly_counts.apply(pd.value_counts).transpose() \n",
        "high_unemp_month[high_unemp_month['High'] == 7]['High']"
      ],
      "metadata": {
        "colab": {
          "base_uri": "https://localhost:8080/"
        },
        "id": "Vs39irezELqv",
        "outputId": "cca48906-4e03-4ed1-c619-efa480a166e0"
      },
      "execution_count": 64,
      "outputs": [
        {
          "output_type": "execute_result",
          "data": {
            "text/plain": [
              "Date\n",
              "2009-04-01    7.0\n",
              "2009-05-01    7.0\n",
              "2009-06-01    7.0\n",
              "2009-07-01    7.0\n",
              "2009-08-01    7.0\n",
              "2009-09-01    7.0\n",
              "2009-10-01    7.0\n",
              "2009-11-01    7.0\n",
              "2009-12-01    7.0\n",
              "2010-01-01    7.0\n",
              "2010-02-01    7.0\n",
              "2010-03-01    7.0\n",
              "2010-04-01    7.0\n",
              "2010-05-01    7.0\n",
              "2010-06-01    7.0\n",
              "2010-07-01    7.0\n",
              "2010-08-01    7.0\n",
              "2010-09-01    7.0\n",
              "2010-10-01    7.0\n",
              "2010-11-01    7.0\n",
              "2010-12-01    7.0\n",
              "2011-01-01    7.0\n",
              "2011-02-01    7.0\n",
              "2011-03-01    7.0\n",
              "2011-04-01    7.0\n",
              "2011-05-01    7.0\n",
              "2011-06-01    7.0\n",
              "2011-07-01    7.0\n",
              "2011-08-01    7.0\n",
              "2011-09-01    7.0\n",
              "2011-10-01    7.0\n",
              "2011-11-01    7.0\n",
              "2011-12-01    7.0\n",
              "2012-01-01    7.0\n",
              "2012-02-01    7.0\n",
              "2012-03-01    7.0\n",
              "2012-04-01    7.0\n",
              "2012-05-01    7.0\n",
              "2012-06-01    7.0\n",
              "2012-07-01    7.0\n",
              "2012-08-01    7.0\n",
              "Name: High, dtype: float64"
            ]
          },
          "metadata": {},
          "execution_count": 64
        }
      ]
    },
    {
      "cell_type": "code",
      "source": [
        "# What about medium and low?\n",
        "# medium\n",
        "\n",
        "medium_unemp_month = monthly_counts.apply(pd.value_counts).transpose() \n",
        "medium_unemp_month[medium_unemp_month['Medium'] == 7]['Medium']"
      ],
      "metadata": {
        "colab": {
          "base_uri": "https://localhost:8080/"
        },
        "id": "0qPJAYVprHyB",
        "outputId": "1ba6495d-08cf-42ed-c23c-da6d5e1c0912"
      },
      "execution_count": 65,
      "outputs": [
        {
          "output_type": "execute_result",
          "data": {
            "text/plain": [
              "Date\n",
              "2001-09-01    7.0\n",
              "2001-10-01    7.0\n",
              "2001-11-01    7.0\n",
              "2001-12-01    7.0\n",
              "2002-01-01    7.0\n",
              "2016-05-01    7.0\n",
              "2016-06-01    7.0\n",
              "2016-07-01    7.0\n",
              "2016-08-01    7.0\n",
              "2016-09-01    7.0\n",
              "2016-10-01    7.0\n",
              "2016-11-01    7.0\n",
              "2016-12-01    7.0\n",
              "2017-01-01    7.0\n",
              "Name: Medium, dtype: float64"
            ]
          },
          "metadata": {},
          "execution_count": 65
        }
      ]
    },
    {
      "cell_type": "code",
      "source": [
        "# Low\n",
        "# Since there's no month with all states we changed to 6!\n",
        "Low_unemp_month = monthly_counts.apply(pd.value_counts).transpose() \n",
        "Low_unemp_month[Low_unemp_month['Low'] == 6]['Low']"
      ],
      "metadata": {
        "colab": {
          "base_uri": "https://localhost:8080/"
        },
        "id": "W-i4JyjDzPTm",
        "outputId": "3dd2844a-252e-4f85-df71-461bab695e1e"
      },
      "execution_count": 71,
      "outputs": [
        {
          "output_type": "execute_result",
          "data": {
            "text/plain": [
              "Date\n",
              "2000-08-01    6.0\n",
              "2000-09-01    6.0\n",
              "2000-10-01    6.0\n",
              "2000-11-01    6.0\n",
              "Name: Low, dtype: float64"
            ]
          },
          "metadata": {},
          "execution_count": 71
        }
      ]
    },
    {
      "cell_type": "markdown",
      "source": [
        "# Exercise 4\n",
        "For a single state of your choice, determine what the mean unemployment is during “Low”, “Medium”, and “High” unemployment times (recall your unemp_bins DataFrame from the exercise above).\n",
        "\n",
        "Think about how you would do this for all the states in our sample and write your thoughts… We will soon learn tools that will greatly simplify operations like this that operate on distinct groups of data at a time.\n",
        "\n",
        "Which states in our sample performs the best during “bad times?” To determine this, compute the mean unemployment for each state only for months in which the mean unemployment rate in our sample is greater than 7."
      ],
      "metadata": {
        "id": "WOfKaJL6zt0u"
      }
    },
    {
      "cell_type": "code",
      "source": [
        "# Select the state of your choice: California\n",
        "# find the frequncy of each unemployment state\n",
        "cal = unemp_bins['California']\n",
        "cal = pd.DataFrame({'month':cal.index, 'unemp_state':cal.values})\n",
        "cal = pd.get_dummies(cal,columns=['unemp_state'])\n",
        "print('Portion of occurance for High, Meduimm, and Low unemployments in California are:',cal['unemp_state_High'].mean(),',',cal['unemp_state_Medium'].mean(),',',cal['unemp_state_Low'].mean())"
      ],
      "metadata": {
        "colab": {
          "base_uri": "https://localhost:8080/"
        },
        "id": "zAaZI04Z08e5",
        "outputId": "214ea60a-5a14-4988-94f7-f7f81e94e9de"
      },
      "execution_count": 132,
      "outputs": [
        {
          "output_type": "stream",
          "name": "stdout",
          "text": [
            "Portion of occurance for High, Meduimm, and Low unemployments in California are: 0.49074074074074076 , 0.49074074074074076 , 0.018518518518518517\n"
          ]
        }
      ]
    },
    {
      "cell_type": "code",
      "source": [
        "# High mean\n",
        "cal = unemp['California'].transpose()\n",
        "cal = pd.DataFrame({'month':cal.index, 'unemp_level':cal.values})\n",
        "cal[cal['unemp_level'] > 6.5].mean()\n",
        "# California is a tough state for unemployment regarding the intensity and portion!"
      ],
      "metadata": {
        "colab": {
          "base_uri": "https://localhost:8080/"
        },
        "id": "mAhvZs_b1T6C",
        "outputId": "9a7a50ed-406c-4723-e8e5-c99f084fc6da"
      },
      "execution_count": 125,
      "outputs": [
        {
          "output_type": "stream",
          "name": "stderr",
          "text": [
            "<ipython-input-125-b73fd15f51cf>:3: FutureWarning: DataFrame.mean and DataFrame.median with numeric_only=None will include datetime64 and datetime64tz columns in a future version.\n",
            "  cal[cal['unemp_level'] > 6.5].mean()\n"
          ]
        },
        {
          "output_type": "execute_result",
          "data": {
            "text/plain": [
              "unemp_level    9.249057\n",
              "dtype: float64"
            ]
          },
          "metadata": {},
          "execution_count": 125
        }
      ]
    },
    {
      "cell_type": "code",
      "source": [
        "# Medium mean\n",
        "cal[(cal['unemp_level'] <= 6.5) & (cal['unemp_level'] > 4.5)].mean()"
      ],
      "metadata": {
        "colab": {
          "base_uri": "https://localhost:8080/"
        },
        "id": "q2Bzrjgt5WP5",
        "outputId": "e99de891-7f1a-413f-c9ca-22459c5f1815"
      },
      "execution_count": 126,
      "outputs": [
        {
          "output_type": "stream",
          "name": "stderr",
          "text": [
            "<ipython-input-126-e0ccf54c1e8a>:1: FutureWarning: DataFrame.mean and DataFrame.median with numeric_only=None will include datetime64 and datetime64tz columns in a future version.\n",
            "  cal[(cal['unemp_level'] <= 6.5) & (cal['unemp_level'] > 4.5)].mean()\n"
          ]
        },
        {
          "output_type": "execute_result",
          "data": {
            "text/plain": [
              "unemp_level    5.454717\n",
              "dtype: float64"
            ]
          },
          "metadata": {},
          "execution_count": 126
        }
      ]
    },
    {
      "cell_type": "code",
      "source": [
        "# Low mean\n",
        "cal = cal.dropna()\n",
        "cal[cal['unemp_level'] <= 4.5].mean()"
      ],
      "metadata": {
        "colab": {
          "base_uri": "https://localhost:8080/"
        },
        "id": "jrVKUgIH6Mii",
        "outputId": "cdfc50d5-3752-49af-f9cc-c801d12fd4a0"
      },
      "execution_count": 131,
      "outputs": [
        {
          "output_type": "stream",
          "name": "stderr",
          "text": [
            "<ipython-input-131-50073aed80b5>:2: FutureWarning: DataFrame.mean and DataFrame.median with numeric_only=None will include datetime64 and datetime64tz columns in a future version.\n",
            "  cal[cal['unemp_level'] <= 4.5].mean()\n"
          ]
        },
        {
          "output_type": "execute_result",
          "data": {
            "text/plain": [
              "unemp_level    4.5\n",
              "dtype: float64"
            ]
          },
          "metadata": {},
          "execution_count": 131
        }
      ]
    },
    {
      "cell_type": "code",
      "source": [
        "# All states\n",
        "# mean High\n",
        "x = unemp.transpose()\n",
        "x[x > 6.5].mean(1)"
      ],
      "metadata": {
        "colab": {
          "base_uri": "https://localhost:8080/"
        },
        "id": "RwhGsBSt6tJt",
        "outputId": "182b270b-aabe-41f5-c38d-b1a523346fb5"
      },
      "execution_count": 145,
      "outputs": [
        {
          "output_type": "execute_result",
          "data": {
            "text/plain": [
              "state\n",
              "Arizona       8.733333\n",
              "California    9.249057\n",
              "Florida       9.155882\n",
              "Illinois      8.740659\n",
              "Michigan      8.762676\n",
              "New York      8.169231\n",
              "Texas         7.552941\n",
              "dtype: float64"
            ]
          },
          "metadata": {},
          "execution_count": 145
        }
      ]
    },
    {
      "cell_type": "code",
      "source": [
        "# mean Medium\n",
        "\n",
        "x[(x <= 6.5) & (x > 4.5)].mean(1)"
      ],
      "metadata": {
        "colab": {
          "base_uri": "https://localhost:8080/"
        },
        "id": "ZrhG_ThB8TJt",
        "outputId": "a8582eae-09fe-406d-e242-dd12eb02b30b"
      },
      "execution_count": 148,
      "outputs": [
        {
          "output_type": "execute_result",
          "data": {
            "text/plain": [
              "state\n",
              "Arizona       5.436082\n",
              "California    5.454717\n",
              "Florida       5.331646\n",
              "Illinois      5.618868\n",
              "Michigan      5.407018\n",
              "New York      5.361240\n",
              "Texas         5.567290\n",
              "dtype: float64"
            ]
          },
          "metadata": {},
          "execution_count": 148
        }
      ]
    },
    {
      "cell_type": "code",
      "source": [
        "# mean Low\n",
        "\n",
        "x[x <= 4.5].mean(1)"
      ],
      "metadata": {
        "colab": {
          "base_uri": "https://localhost:8080/"
        },
        "id": "7V37EzIk8x_Q",
        "outputId": "fe8f24e3-5aac-46ac-a6eb-80f0ae2e8db4"
      },
      "execution_count": 149,
      "outputs": [
        {
          "output_type": "execute_result",
          "data": {
            "text/plain": [
              "state\n",
              "Arizona       4.063636\n",
              "California    4.500000\n",
              "Florida       3.807246\n",
              "Illinois      4.352632\n",
              "Michigan      3.876471\n",
              "New York      4.340909\n",
              "Texas         4.298276\n",
              "dtype: float64"
            ]
          },
          "metadata": {},
          "execution_count": 149
        }
      ]
    },
    {
      "cell_type": "code",
      "source": [
        "# during bad times!\n",
        "x[x > 7].mean(1)"
      ],
      "metadata": {
        "colab": {
          "base_uri": "https://localhost:8080/"
        },
        "id": "E80VjoXy-TX0",
        "outputId": "ca200581-b033-445f-dfbf-56e5d0d30341"
      },
      "execution_count": 150,
      "outputs": [
        {
          "output_type": "execute_result",
          "data": {
            "text/plain": [
              "state\n",
              "Arizona        9.038462\n",
              "California    10.234211\n",
              "Florida        9.568966\n",
              "Illinois       9.423529\n",
              "Michigan       9.465385\n",
              "New York       8.286667\n",
              "Texas          7.972727\n",
              "dtype: float64"
            ]
          },
          "metadata": {},
          "execution_count": 150
        }
      ]
    },
    {
      "cell_type": "markdown",
      "source": [
        "During bad times, Texas does the best!!!!"
      ],
      "metadata": {
        "id": "rRO95tOP-ze_"
      }
    }
  ]
}