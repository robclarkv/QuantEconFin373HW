{
 "cells": [
  {
   "cell_type": "markdown",
   "id": "26859cdb",
   "metadata": {
    "tags": []
   },
   "source": [
    "Excercise 1"
   ]
  },
  {
   "cell_type": "code",
   "execution_count": 95,
   "id": "0110f5de-54ec-4455-856e-a9b31faf1ea6",
   "metadata": {},
   "outputs": [
    {
     "name": "stdout",
     "output_type": "stream",
     "text": [
      "z is 7\n"
     ]
    }
   ],
   "source": [
    "z = 3\n",
    "z = z + 4\n",
    "print(\"z is\", z)\n",
    "\n",
    "#The value of z will become 7"
   ]
  },
  {
   "cell_type": "markdown",
   "id": "3cf607f8-65da-41f4-906f-1743e7fddf99",
   "metadata": {},
   "source": [
    "Excercise 2"
   ]
  },
  {
   "cell_type": "code",
   "execution_count": 82,
   "id": "e8e11c6d-4302-468c-83f1-e4292770e215",
   "metadata": {},
   "outputs": [
    {
     "data": {
      "text/plain": [
       "13"
      ]
     },
     "execution_count": 82,
     "metadata": {},
     "output_type": "execute_result"
    }
   ],
   "source": [
    "x=(\"Mo and Robert\")\n",
    "len(x)"
   ]
  },
  {
   "cell_type": "markdown",
   "id": "0baeb672",
   "metadata": {
    "tags": []
   },
   "source": [
    "Excercise 3"
   ]
  },
  {
   "cell_type": "code",
   "execution_count": 84,
   "id": "fd455df9",
   "metadata": {
    "hide-output": false
   },
   "outputs": [
    {
     "data": {
      "text/plain": [
       "time.struct_time(tm_year=2023, tm_mon=1, tm_mday=26, tm_hour=18, tm_min=10, tm_sec=1, tm_wday=3, tm_yday=26, tm_isdst=0)"
      ]
     },
     "execution_count": 84,
     "metadata": {},
     "output_type": "execute_result"
    }
   ],
   "source": [
    "import time\n",
    "# Your code goes here\n",
    "time.localtime()\n",
    "#I called the function \"localtime()\" while importing \"time\" in order to access it.\n",
    "#I found the function by clicking <Tab> to open the \"methods\"."
   ]
  },
  {
   "cell_type": "markdown",
   "id": "6fdad0c5-acef-4c61-a97e-a7624dcbebe0",
   "metadata": {},
   "source": [
    "Excercise 4"
   ]
  },
  {
   "cell_type": "code",
   "execution_count": 94,
   "id": "48e03864-3a77-477d-b408-82ef96a3eafd",
   "metadata": {},
   "outputs": [
    {
     "data": {
      "text/plain": [
       "time.struct_time(tm_year=2023, tm_mon=1, tm_mday=26, tm_hour=18, tm_min=14, tm_sec=52, tm_wday=3, tm_yday=26, tm_isdst=0)"
      ]
     },
     "execution_count": 94,
     "metadata": {},
     "output_type": "execute_result"
    }
   ],
   "source": [
    "import time as t\n",
    "\n",
    "t.localtime()\n",
    "#It worked"
   ]
  },
  {
   "cell_type": "markdown",
   "id": "44503512",
   "metadata": {
    "tags": []
   },
   "source": [
    "Question 5"
   ]
  },
  {
   "cell_type": "code",
   "execution_count": 96,
   "id": "3172a2c7",
   "metadata": {
    "hide-output": false
   },
   "outputs": [],
   "source": [
    "D=float(10000)\n",
    "r=float(.025)\n",
    "T=int(30)"
   ]
  },
  {
   "cell_type": "markdown",
   "id": "c58ccebf-f25f-4218-8a9a-87cf0f3007b4",
   "metadata": {},
   "source": [
    "Excercise 6"
   ]
  },
  {
   "cell_type": "code",
   "execution_count": 100,
   "id": "79de1dc2",
   "metadata": {
    "hide-output": false,
    "tags": []
   },
   "outputs": [
    {
     "name": "stdout",
     "output_type": "stream",
     "text": [
      "4767.426851809713\n"
     ]
    }
   ],
   "source": [
    "D=float(10000)\n",
    "r=float(.025)\n",
    "T=int(30)\n",
    "\n",
    "PDV=(D/((1+r)**T))\n",
    "print(PDV)"
   ]
  },
  {
   "cell_type": "markdown",
   "id": "8c2fad49",
   "metadata": {
    "tags": []
   },
   "source": [
    "Excercise 7"
   ]
  },
  {
   "cell_type": "code",
   "execution_count": 105,
   "id": "b60a862e-eb42-413c-a130-86b9eb7a34cb",
   "metadata": {},
   "outputs": [
    {
     "name": "stdout",
     "output_type": "stream",
     "text": [
      "0.028571428571428595 0.02898753687325232\n"
     ]
    }
   ],
   "source": [
    "import math\n",
    "x = 1.05\n",
    "y = 1.02\n",
    "\n",
    "z=((x-y)/x)\n",
    "\n",
    "a=(math.log(x)-math.log(y))\n",
    "\n",
    "print(z,a)"
   ]
  },
  {
   "cell_type": "markdown",
   "id": "bfada1fc",
   "metadata": {},
   "source": [
    "Excercise 8"
   ]
  },
  {
   "cell_type": "code",
   "execution_count": 108,
   "id": "9c23fa5b",
   "metadata": {
    "hide-output": false
   },
   "outputs": [
    {
     "name": "stdout",
     "output_type": "stream",
     "text": [
      "What's wrong with this string\n"
     ]
    }
   ],
   "source": [
    "x = 'What\\'s wrong with this string'\n",
    "print(x)\n",
    "#The string is wrong as you can't use a \" ` \" if\n",
    "#it does not have a \" \\ \" before"
   ]
  },
  {
   "cell_type": "markdown",
   "id": "dc865573",
   "metadata": {},
   "source": [
    "Excercise 9"
   ]
  },
  {
   "cell_type": "code",
   "execution_count": 109,
   "id": "5927e25c-e4a0-4a86-9258-2d7c56c2fc69",
   "metadata": {},
   "outputs": [
    {
     "name": "stdout",
     "output_type": "stream",
     "text": [
      "Hello World\n"
     ]
    }
   ],
   "source": [
    "x=\"Hello\"\n",
    "y=\"World\"\n",
    "print(x,y)"
   ]
  },
  {
   "cell_type": "markdown",
   "id": "06101e20",
   "metadata": {},
   "source": [
    "Excercise 10"
   ]
  },
  {
   "cell_type": "code",
   "execution_count": 121,
   "id": "449449cb-10fa-4c9b-931c-fe646de4044f",
   "metadata": {},
   "outputs": [
    {
     "name": "stdout",
     "output_type": "stream",
     "text": [
      "abd\n"
     ]
    }
   ],
   "source": [
    "test = \"abc\"\n",
    "replaced=(test.replace(\"c\", \"d\"))\n",
    "print(replaced)"
   ]
  },
  {
   "cell_type": "markdown",
   "id": "a5f8bac6-3961-4639-afba-75e235b8125c",
   "metadata": {},
   "source": [
    "Excercise 11"
   ]
  },
  {
   "cell_type": "code",
   "execution_count": 124,
   "id": "23b3b970-f735-4922-bc01-26192c7d2268",
   "metadata": {},
   "outputs": [
    {
     "name": "stdout",
     "output_type": "stream",
     "text": [
      "6.5\n"
     ]
    }
   ],
   "source": [
    "price = \"$6.50\"\n",
    "\n",
    "cleaned=(price.replace(\"$\",\"\"))\n",
    "clean_num=(float(cleaned))\n",
    "print(clean_num)"
   ]
  },
  {
   "cell_type": "markdown",
   "id": "981e61ae-b034-4011-9b87-79e595e07705",
   "metadata": {},
   "source": [
    "Excercise 12 and 13"
   ]
  },
  {
   "cell_type": "code",
   "execution_count": 130,
   "id": "0e706861-d4c5-4173-9e3c-52113c424ef1",
   "metadata": {},
   "outputs": [
    {
     "name": "stdout",
     "output_type": "stream",
     "text": [
      "Mexico had $1.09 billion in 2020\n",
      "Mexico had $1.27 billion in 2021\n"
     ]
    }
   ],
   "source": [
    "my_string = \"Mexico had ${GDP} billion in {year}\"\n",
    "\n",
    "gdp_2021=1.27\n",
    "this=2021\n",
    "last=2020\n",
    "gdp_2020=1.09\n",
    "\n",
    "print(my_string.format(GDP=gdp_2020, year=last))\n",
    "\n",
    "print(my_string.format(GDP=gdp_2021, year=this))"
   ]
  },
  {
   "cell_type": "markdown",
   "id": "2e8726b4-17f0-4803-b08d-bbd8f60e5ce7",
   "metadata": {},
   "source": [
    "Excercise 14"
   ]
  },
  {
   "cell_type": "code",
   "execution_count": 138,
   "id": "eb86689b",
   "metadata": {
    "hide-output": false
   },
   "outputs": [
    {
     "name": "stdout",
     "output_type": "stream",
     "text": [
      "The 1st quarter revenue was $110M\n",
      "The 2nd quarter revenue was $95M\n",
      "The 3rd quarter revenue was $100M\n",
      "The 4th quarter revenue was $130M\n"
     ]
    }
   ],
   "source": [
    "# Your code goes here\n",
    "\n",
    "my_string= \"The {quarter} quarter revenue was ${million}M\"\n",
    "\n",
    "first=\"1st\"\n",
    "second=\"2nd\"\n",
    "third=\"3rd\"\n",
    "fourth=\"4th\"\n",
    "\n",
    "mon1=\"110\"            #I formatted my string so I could reuse it\n",
    "mon2=\"95\"             #for different values in the same place of\n",
    "mon3=\"100\"            #the string.\n",
    "mon4=\"130\"\n",
    "\n",
    "print(my_string.format(quarter=first, million = mon1))\n",
    "\n",
    "print(my_string.format(quarter=second, million = mon2))\n",
    "\n",
    "print(my_string.format(quarter=third, million = mon3))\n",
    "\n",
    "print(my_string.format(quarter=fourth, million = mon4))\n"
   ]
  },
  {
   "cell_type": "markdown",
   "id": "0c9cbadd-3b64-4036-a52a-921e3a5bb4bc",
   "metadata": {},
   "source": [
    "Excercise 15"
   ]
  },
  {
   "cell_type": "code",
   "execution_count": 141,
   "id": "f1e8a202-8cbb-46b2-a8bc-3a3751afd48e",
   "metadata": {},
   "outputs": [
    {
     "name": "stdout",
     "output_type": "stream",
     "text": [
      "False\n",
      "True\n",
      "False\n",
      "False\n",
      "True\n",
      "True\n"
     ]
    }
   ],
   "source": [
    "x = 2\n",
    "y = 2\n",
    "z = 4\n",
    "\n",
    "# Statement 1\n",
    "print(x > z)\n",
    "\n",
    "# Statement 1\n",
    "print(x == y)\n",
    "\n",
    "# Statement 3\n",
    "print((x < y) and (x > y))\n",
    "\n",
    "# Statement 4\n",
    "print((x < y) or (x > y))\n",
    "\n",
    "# Statement 5\n",
    "print((x <= y) and (x >= y))\n",
    "\n",
    "# Statement 6\n",
    "print(True and ((x < z) or (x < y)))"
   ]
  },
  {
   "cell_type": "markdown",
   "id": "42547c45-1c06-4fff-89e9-d0a5d6ec1329",
   "metadata": {},
   "source": [
    "Excercise 16"
   ]
  },
  {
   "cell_type": "code",
   "execution_count": 142,
   "id": "c76b5f63-23b9-4e63-acb2-0f99c2d4ecff",
   "metadata": {},
   "outputs": [
    {
     "data": {
      "text/plain": [
       "True"
      ]
     },
     "execution_count": 142,
     "metadata": {},
     "output_type": "execute_result"
    }
   ],
   "source": [
    "all([True, True, True]) #True"
   ]
  },
  {
   "cell_type": "code",
   "execution_count": 143,
   "id": "657f289f-c583-4b16-8db3-51f295a1430b",
   "metadata": {},
   "outputs": [
    {
     "data": {
      "text/plain": [
       "False"
      ]
     },
     "execution_count": 143,
     "metadata": {},
     "output_type": "execute_result"
    }
   ],
   "source": [
    "all([False, True, False]) #False"
   ]
  },
  {
   "cell_type": "code",
   "execution_count": 144,
   "id": "40a5f64a-432d-4a0d-bab8-4fb1ef959286",
   "metadata": {
    "tags": []
   },
   "outputs": [
    {
     "data": {
      "text/plain": [
       "False"
      ]
     },
     "execution_count": 144,
     "metadata": {},
     "output_type": "execute_result"
    }
   ],
   "source": [
    "all([False, False, False]) #False"
   ]
  },
  {
   "cell_type": "code",
   "execution_count": 145,
   "id": "fb55ddf7-693e-4c00-8634-ceb56f85a66a",
   "metadata": {},
   "outputs": [
    {
     "data": {
      "text/plain": [
       "True"
      ]
     },
     "execution_count": 145,
     "metadata": {},
     "output_type": "execute_result"
    }
   ],
   "source": [
    "any([True, True, True]) #True"
   ]
  },
  {
   "cell_type": "code",
   "execution_count": 146,
   "id": "ed779ae4-bb66-45c9-9dec-d3f25633633b",
   "metadata": {},
   "outputs": [
    {
     "data": {
      "text/plain": [
       "True"
      ]
     },
     "execution_count": 146,
     "metadata": {},
     "output_type": "execute_result"
    }
   ],
   "source": [
    "any([False, True, False]) #True"
   ]
  },
  {
   "cell_type": "code",
   "execution_count": 147,
   "id": "596da6f6-545c-4499-8b84-cda9b74ef75b",
   "metadata": {},
   "outputs": [
    {
     "data": {
      "text/plain": [
       "False"
      ]
     },
     "execution_count": 147,
     "metadata": {},
     "output_type": "execute_result"
    }
   ],
   "source": [
    "any([False, False, False]) #False"
   ]
  },
  {
   "cell_type": "code",
   "execution_count": null,
   "id": "b4d70d49-1d5e-47e7-8452-62e3299a725c",
   "metadata": {},
   "outputs": [],
   "source": []
  }
 ],
 "metadata": {
  "date": 1668050879.5507905,
  "filename": "problem_set_1.md",
  "kernelspec": {
   "display_name": "Python 3 (ipykernel)",
   "language": "python",
   "name": "python3"
  },
  "language_info": {
   "codemirror_mode": {
    "name": "ipython",
    "version": 3
   },
   "file_extension": ".py",
   "mimetype": "text/x-python",
   "name": "python",
   "nbconvert_exporter": "python",
   "pygments_lexer": "ipython3",
   "version": "3.9.13"
  },
  "title": "Problem Set 1"
 },
 "nbformat": 4,
 "nbformat_minor": 5
}
