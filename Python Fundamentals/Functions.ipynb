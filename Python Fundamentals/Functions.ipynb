{
 "cells": [
  {
   "cell_type": "markdown",
   "id": "5e997b36-e642-42fc-88fe-9e250a8a73d0",
   "metadata": {},
   "source": [
    "Exercise 1"
   ]
  },
  {
   "cell_type": "code",
   "execution_count": 1,
   "id": "dac415ef-edb2-48c0-bb1a-a807a1527246",
   "metadata": {},
   "outputs": [
    {
     "data": {
      "text/plain": [
       "0.9999999999999997"
      ]
     },
     "execution_count": 1,
     "metadata": {},
     "output_type": "execute_result"
    }
   ],
   "source": [
    "def cobb_douglas(K, L):\n",
    "\n",
    "    # Create alpha and z\n",
    "    z = 1\n",
    "    alpha = 0.33\n",
    "\n",
    "    return z * K**alpha * L**(1 - alpha)\n",
    "def returns_to_scale(K, L, gamma):\n",
    "    y1 = cobb_douglas(K, L)\n",
    "    y2 = cobb_douglas(gamma*K, gamma*L)\n",
    "    y_ratio = y2 / y1\n",
    "    return y_ratio / gamma\n",
    "\n",
    "\n",
    "returns_to_scale(1.2,0.6,4)"
   ]
  },
  {
   "cell_type": "markdown",
   "id": "fdf0f3d1-4da3-4962-b190-71bfc6f4a74f",
   "metadata": {},
   "source": [
    "Exercise 2"
   ]
  },
  {
   "cell_type": "code",
   "execution_count": 2,
   "id": "51c01336-93eb-42e0-8d1a-6fd762ee8e60",
   "metadata": {},
   "outputs": [],
   "source": [
    "def var(x):\n",
    "    \"\"\"\n",
    "    Calculate the variance of a list of numbers.\n",
    "    \n",
    "    Parameters\n",
    "    ----------\n",
    "    x : list\n",
    "        A list of numbers.\n",
    "        \n",
    "    Returns\n",
    "    -------\n",
    "    variance : float\n",
    "        The variance of the numbers in the input list.\n",
    "    \"\"\"\n",
    "    mean_x = mean(x)\n",
    "    variance = sum((i - mean_x)**2 for i in x) / len(x)\n",
    "    return variance\n"
   ]
  },
  {
   "cell_type": "markdown",
   "id": "711779d1-0884-4ae4-bb09-0cf5309d4c9d",
   "metadata": {},
   "source": [
    "Exercise 3"
   ]
  },
  {
   "cell_type": "code",
   "execution_count": 3,
   "id": "4647b99b-d78f-4511-89a9-852f5c37ff7a",
   "metadata": {},
   "outputs": [],
   "source": [
    "def returns_to_scale(K, L, gamma):\n",
    "    \"\"\"\n",
    "    Computes the returns to scale of a production process using the Cobb-Douglas production function.\n",
    "    \n",
    "    Parameters\n",
    "    ----------\n",
    "    K : float\n",
    "        The capital input used in the production process.\n",
    "    L : float\n",
    "        The labour input used in the production process.\n",
    "    gamma : float\n",
    "        A scalar value used to change the inputs of the production process.\n",
    "        \n",
    "    Returns\n",
    "    -------\n",
    "    rts : float\n",
    "        A value indicating the returns to scale of the production process.\n",
    "        The value is calculated by finding the ratio of output produced when inputs are scaled by gamma and dividing it by gamma.\n",
    "    \"\"\"\n",
    "    y1 = cobb_douglas(K, L)\n",
    "    y2 = cobb_douglas(gamma*K, gamma*L)\n",
    "    y_ratio = y2 / y1\n",
    "    return y_ratio / gamma"
   ]
  },
  {
   "cell_type": "markdown",
   "id": "dfe529a2-85c8-4130-a994-81f942077c52",
   "metadata": {},
   "source": [
    "Exercise 4"
   ]
  },
  {
   "cell_type": "code",
   "execution_count": 4,
   "id": "c42c0ef3-8e4b-4ba3-9a08-b2298a2701ed",
   "metadata": {
    "tags": []
   },
   "outputs": [
    {
     "name": "stdout",
     "output_type": "stream",
     "text": [
      "1,2,3!\n"
     ]
    }
   ],
   "source": [
    "print(1, 2, 3, sep=',', end='!\\n')\n"
   ]
  }
 ],
 "metadata": {
  "kernelspec": {
   "display_name": "Python 3 (ipykernel)",
   "language": "python",
   "name": "python3"
  },
  "language_info": {
   "codemirror_mode": {
    "name": "ipython",
    "version": 3
   },
   "file_extension": ".py",
   "mimetype": "text/x-python",
   "name": "python",
   "nbconvert_exporter": "python",
   "pygments_lexer": "ipython3",
   "version": "3.9.13"
  }
 },
 "nbformat": 4,
 "nbformat_minor": 5
}
