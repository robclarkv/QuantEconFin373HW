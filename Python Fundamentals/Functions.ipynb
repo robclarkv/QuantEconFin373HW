{
 "cells": [
  {
   "cell_type": "markdown",
   "id": "711779d1-0884-4ae4-bb09-0cf5309d4c9d",
   "metadata": {},
   "source": [
    "Exercise 3"
   ]
  },
  {
   "cell_type": "code",
   "execution_count": 1,
   "id": "4647b99b-d78f-4511-89a9-852f5c37ff7a",
   "metadata": {},
   "outputs": [],
   "source": [
    "def returns_to_scale(K, L, gamma):\n",
    "    \"\"\"\n",
    "    Computes the returns to scale of a production process using the Cobb-Douglas production function.\n",
    "    \n",
    "    Parameters\n",
    "    ----------\n",
    "    K : float\n",
    "        The capital input used in the production process.\n",
    "    L : float\n",
    "        The labour input used in the production process.\n",
    "    gamma : float\n",
    "        A scalar value used to change the inputs of the production process.\n",
    "        \n",
    "    Returns\n",
    "    -------\n",
    "    rts : float\n",
    "        A value indicating the returns to scale of the production process.\n",
    "        The value is calculated by finding the ratio of output produced when inputs are scaled by gamma and dividing it by gamma.\n",
    "    \"\"\"\n",
    "    y1 = cobb_douglas(K, L)\n",
    "    y2 = cobb_douglas(gamma*K, gamma*L)\n",
    "    y_ratio = y2 / y1\n",
    "    return y_ratio / gamma"
   ]
  },
  {
   "cell_type": "markdown",
   "id": "dfe529a2-85c8-4130-a994-81f942077c52",
   "metadata": {},
   "source": [
    "Exercise 4"
   ]
  },
  {
   "cell_type": "code",
   "execution_count": 2,
   "id": "c42c0ef3-8e4b-4ba3-9a08-b2298a2701ed",
   "metadata": {
    "tags": []
   },
   "outputs": [
    {
     "name": "stdout",
     "output_type": "stream",
     "text": [
      "1,2,3!\n"
     ]
    }
   ],
   "source": [
    "print(1, 2, 3, sep=',', end='!\\n')\n"
   ]
  }
 ],
 "metadata": {
  "kernelspec": {
   "display_name": "Python 3 (ipykernel)",
   "language": "python",
   "name": "python3"
  },
  "language_info": {
   "codemirror_mode": {
    "name": "ipython",
    "version": 3
   },
   "file_extension": ".py",
   "mimetype": "text/x-python",
   "name": "python",
   "nbconvert_exporter": "python",
   "pygments_lexer": "ipython3",
   "version": "3.9.13"
  }
 },
 "nbformat": 4,
 "nbformat_minor": 5
}
