{
 "cells": [
  {
   "cell_type": "markdown",
   "id": "cf01a5b9-ad01-4f32-8388-68bee10387e4",
   "metadata": {},
   "source": [
    "Exercise 1"
   ]
  },
  {
   "cell_type": "code",
   "execution_count": 1,
   "id": "5f0166a1-0491-49fd-b529-e8014765f866",
   "metadata": {},
   "outputs": [
    {
     "name": "stdout",
     "output_type": "stream",
     "text": [
      "['a', 'b', 'c', [1, 2, 3]]\n"
     ]
    }
   ],
   "source": [
    "y = [\"a\", \"b\", \"c\"]\n",
    "z = [1, 2, 3]\n",
    "y.append(z)\n",
    "print(y)"
   ]
  },
  {
   "cell_type": "markdown",
   "id": "058a6acb-4a10-46be-8518-639206a08d06",
   "metadata": {},
   "source": [
    "The function adds list z to the end of list y"
   ]
  },
  {
   "cell_type": "code",
   "execution_count": 2,
   "id": "755e99c9-fb23-45d0-a34b-9001021cb4cd",
   "metadata": {},
   "outputs": [
    {
     "name": "stdout",
     "output_type": "stream",
     "text": [
      "['a', 'b', 'c', 1, 2, 3]\n"
     ]
    }
   ],
   "source": [
    "y = [\"a\", \"b\", \"c\"]\n",
    "z = [1, 2, 3]\n",
    "y.extend(z)\n",
    "print(y)"
   ]
  },
  {
   "cell_type": "markdown",
   "id": "e92a3da0-7670-4fb5-a48b-7c87b943754e",
   "metadata": {},
   "source": [
    "The function adds each item of list z to the end of list y"
   ]
  },
  {
   "cell_type": "markdown",
   "id": "fc07d6d4-48e7-45d3-9b14-82997e97de36",
   "metadata": {},
   "source": [
    "Exercise 2"
   ]
  },
  {
   "cell_type": "code",
   "execution_count": 3,
   "id": "d7544f37-4939-4796-967c-567705da5f80",
   "metadata": {},
   "outputs": [
    {
     "data": {
      "text/plain": [
       "[1, 2, 3, 4, 5, 6, 7, 8, 9]"
      ]
     },
     "execution_count": 3,
     "metadata": {},
     "output_type": "execute_result"
    }
   ],
   "source": [
    "list(range(1, 10))"
   ]
  },
  {
   "cell_type": "markdown",
   "id": "d67cd659-3b10-4c2d-bb47-6466df6d5903",
   "metadata": {},
   "source": [
    "List all numbers in the range up to but not including the top of the range. Increments by 1."
   ]
  },
  {
   "cell_type": "code",
   "execution_count": 4,
   "id": "664ea07a-f3fe-4082-ba6b-bd75f1ce4b9a",
   "metadata": {},
   "outputs": [
    {
     "data": {
      "text/plain": [
       "[1, 3, 5, 7, 9]"
      ]
     },
     "execution_count": 4,
     "metadata": {},
     "output_type": "execute_result"
    }
   ],
   "source": [
    "list(range(1,10,2))"
   ]
  },
  {
   "cell_type": "markdown",
   "id": "270e8c69-9c35-48c3-992c-0435c9e2735b",
   "metadata": {},
   "source": [
    "List all number in the range up to but not including the top of the range in increments of 2 starting at the bottom of the range."
   ]
  },
  {
   "cell_type": "markdown",
   "id": "bfd3384e-cd09-4e1c-bad4-f108c5bd8b81",
   "metadata": {},
   "source": [
    "Exercise 3"
   ]
  },
  {
   "cell_type": "code",
   "execution_count": 5,
   "id": "d73f2867-c381-4011-beb0-09e7707d7665",
   "metadata": {},
   "outputs": [
    {
     "ename": "TypeError",
     "evalue": "'tuple' object does not support item assignment",
     "output_type": "error",
     "traceback": [
      "\u001b[1;31m---------------------------------------------------------------------------\u001b[0m",
      "\u001b[1;31mTypeError\u001b[0m                                 Traceback (most recent call last)",
      "\u001b[1;32m~\\AppData\\Local\\Temp\\ipykernel_29096\\3053309333.py\u001b[0m in \u001b[0;36m<module>\u001b[1;34m\u001b[0m\n\u001b[0;32m      1\u001b[0m \u001b[0mt\u001b[0m \u001b[1;33m=\u001b[0m \u001b[1;33m(\u001b[0m\u001b[1;36m1\u001b[0m\u001b[1;33m,\u001b[0m \u001b[1;34m\"hello\"\u001b[0m\u001b[1;33m,\u001b[0m \u001b[1;36m3.0\u001b[0m\u001b[1;33m)\u001b[0m\u001b[1;33m\u001b[0m\u001b[1;33m\u001b[0m\u001b[0m\n\u001b[1;32m----> 2\u001b[1;33m \u001b[0mt\u001b[0m\u001b[1;33m[\u001b[0m\u001b[1;36m0\u001b[0m\u001b[1;33m]\u001b[0m \u001b[1;33m=\u001b[0m \u001b[1;36m100\u001b[0m\u001b[1;33m\u001b[0m\u001b[1;33m\u001b[0m\u001b[0m\n\u001b[0m\u001b[0;32m      3\u001b[0m \u001b[0mt\u001b[0m\u001b[1;33m.\u001b[0m\u001b[0mappend\u001b[0m\u001b[1;33m(\u001b[0m\u001b[1;34m\"!!\"\u001b[0m\u001b[1;33m)\u001b[0m\u001b[1;33m\u001b[0m\u001b[1;33m\u001b[0m\u001b[0m\n\u001b[0;32m      4\u001b[0m \u001b[0mt\u001b[0m\u001b[1;33m.\u001b[0m\u001b[0msort\u001b[0m\u001b[1;33m(\u001b[0m\u001b[1;33m)\u001b[0m\u001b[1;33m\u001b[0m\u001b[1;33m\u001b[0m\u001b[0m\n\u001b[0;32m      5\u001b[0m \u001b[0mt\u001b[0m\u001b[1;33m.\u001b[0m\u001b[0mreverse\u001b[0m\u001b[1;33m(\u001b[0m\u001b[1;33m)\u001b[0m\u001b[1;33m\u001b[0m\u001b[1;33m\u001b[0m\u001b[0m\n",
      "\u001b[1;31mTypeError\u001b[0m: 'tuple' object does not support item assignment"
     ]
    }
   ],
   "source": [
    "t = (1, \"hello\", 3.0)\n",
    "t[0] = 100\n",
    "t.append(\"!!\")\n",
    "t.sort()\n",
    "t.reverse()\n",
    "t"
   ]
  },
  {
   "cell_type": "markdown",
   "id": "668fa846-cb2a-4e3a-8450-fe7142a60861",
   "metadata": {},
   "source": [
    "This shows that tuples are indeed immutable in Python."
   ]
  },
  {
   "cell_type": "markdown",
   "id": "a7f55ae3-44a1-43a8-97cd-145ceeeeb84d",
   "metadata": {},
   "source": [
    "Exercise 4"
   ]
  },
  {
   "cell_type": "code",
   "execution_count": 18,
   "id": "e43cadff-5006-4a63-be35-a39988b42b10",
   "metadata": {},
   "outputs": [
    {
     "data": {
      "text/plain": [
       "True"
      ]
     },
     "execution_count": 18,
     "metadata": {},
     "output_type": "execute_result"
    }
   ],
   "source": [
    "foo = (\"good\", \"luck!\")\n",
    "z = zip(range(len(foo)),foo)\n",
    "list(z) == list(enumerate(foo))"
   ]
  },
  {
   "cell_type": "markdown",
   "id": "2040c600-894c-48be-919e-445e3ba24e75",
   "metadata": {},
   "source": [
    "Exercise 5"
   ]
  },
  {
   "cell_type": "code",
   "execution_count": 7,
   "id": "a21a44ac-f40a-4a05-ab35-e497b9e70073",
   "metadata": {},
   "outputs": [
    {
     "name": "stdout",
     "output_type": "stream",
     "text": [
      "{'AAPL': 175.96, 'GOOGL': 1047.43, 'TVIX': 8.38}\n"
     ]
    }
   ],
   "source": [
    "stock_values = {\n",
    "    \"AAPL\": 175.96,\n",
    "    \"GOOGL\": 1047.43,\n",
    "    \"TVIX\": 8.38\n",
    "}\n",
    "print(stock_values)"
   ]
  },
  {
   "cell_type": "markdown",
   "id": "622193cd-bfd0-4bfd-b859-270d4d6b38d1",
   "metadata": {},
   "source": [
    "Exercise 6"
   ]
  },
  {
   "cell_type": "code",
   "execution_count": 8,
   "id": "d14e813d-f0df-4bfe-94fa-602bae0fc20a",
   "metadata": {},
   "outputs": [
    {
     "name": "stdout",
     "output_type": "stream",
     "text": [
      "{'electrictiy': 100, 'generating capactiy': 82.517, 'form': 'Commonwealth of Australia', 'coordinates': [35, 16, 149, 8]}\n"
     ]
    }
   ],
   "source": [
    "australia_facts = {\n",
    "    \"electrictiy\": 100,\n",
    "    \"generating capactiy\": 82.517,\n",
    "    \"form\": \"Commonwealth of Australia\",\n",
    "    \"coordinates\":[35,16,149,8]\n",
    "}\n",
    "print(australia_facts)"
   ]
  },
  {
   "cell_type": "markdown",
   "id": "9aaa487f-dc5b-469a-9e04-b2e82de9094c",
   "metadata": {},
   "source": [
    "Exercise 7"
   ]
  },
  {
   "cell_type": "code",
   "execution_count": 9,
   "id": "ecf76a50-29db-4c93-a687-967f25f0e910",
   "metadata": {},
   "outputs": [
    {
     "name": "stdout",
     "output_type": "stream",
     "text": [
      "{'country': 'China', 'year': 2015, 'GDP': 11.06, 'population': 1.371, 'top_religions': {'buddhist': 18.2, 'christian': 5.1, 'muslim': 1.8}}\n"
     ]
    }
   ],
   "source": [
    "china_data = {\n",
    "    \"country\": \"China\",\n",
    "    \"year\": 2015,\n",
    "    \"GDP\" : 11.06,\n",
    "    \"population\": 1.371\n",
    "}\n",
    "more_china_data = {\"irrigated_land\": 690_070, \"top_religions\": {\"buddhist\": 18.2, \"christian\" : 5.1, \"muslim\": 1.8}}\n",
    "china_data.update(more_china_data)\n",
    "china_data.pop(\"irrigated_land\")\n",
    "print(china_data)"
   ]
  },
  {
   "cell_type": "markdown",
   "id": "3164f89a-4260-444e-844f-91dac47267ae",
   "metadata": {},
   "source": [
    "Pop has been used in this case to remove the \"irrigated_land\" key from the dictionary."
   ]
  },
  {
   "cell_type": "markdown",
   "id": "bcbb2795-a1c4-4684-9af3-7952e273d48b",
   "metadata": {},
   "source": [
    "Exercise 8"
   ]
  },
  {
   "cell_type": "code",
   "execution_count": 10,
   "id": "986d76e1-5a20-41f2-8fd0-1f6a6df6dd6d",
   "metadata": {},
   "outputs": [
    {
     "ename": "KeyError",
     "evalue": "'irrigated_land'",
     "output_type": "error",
     "traceback": [
      "\u001b[1;31m---------------------------------------------------------------------------\u001b[0m",
      "\u001b[1;31mKeyError\u001b[0m                                  Traceback (most recent call last)",
      "\u001b[1;32m~\\AppData\\Local\\Temp\\ipykernel_29096\\3526220365.py\u001b[0m in \u001b[0;36m<module>\u001b[1;34m\u001b[0m\n\u001b[1;32m----> 1\u001b[1;33m \u001b[0mchina_data\u001b[0m\u001b[1;33m.\u001b[0m\u001b[0mpop\u001b[0m\u001b[1;33m(\u001b[0m\u001b[1;34m\"irrigated_land\"\u001b[0m\u001b[1;33m)\u001b[0m\u001b[1;33m\u001b[0m\u001b[1;33m\u001b[0m\u001b[0m\n\u001b[0m",
      "\u001b[1;31mKeyError\u001b[0m: 'irrigated_land'"
     ]
    }
   ],
   "source": [
    "china_data.pop(\"irrigated_land\")"
   ]
  },
  {
   "cell_type": "markdown",
   "id": "e8e09d9a-30fc-4018-9cb1-5a0fc5bb8776",
   "metadata": {},
   "source": [
    "This shoes that if the key is not existant than an error is thrown."
   ]
  },
  {
   "cell_type": "markdown",
   "id": "19b26f1b-c4a2-4119-9647-f6426d5eb6c2",
   "metadata": {},
   "source": [
    "Exercise 9"
   ]
  },
  {
   "cell_type": "code",
   "execution_count": 12,
   "id": "c378d994-3cd7-4c3e-b6a2-7edf44188b38",
   "metadata": {},
   "outputs": [
    {
     "data": {
      "text/plain": [
       "{1, 2}"
      ]
     },
     "execution_count": 12,
     "metadata": {},
     "output_type": "execute_result"
    }
   ],
   "source": [
    "s = {1, 2, 1, 2, 1, 2}\n",
    "s"
   ]
  },
  {
   "cell_type": "markdown",
   "id": "1b1a8324-9547-4b8a-ba90-52ef8e6ec744",
   "metadata": {},
   "source": [
    "There is only one item of each instance, and they are ordered. This is because creating a set orders items and removes repeats from a list."
   ]
  },
  {
   "cell_type": "markdown",
   "id": "3fe30c60-6c57-4c94-bf72-f81f5851d1fb",
   "metadata": {},
   "source": [
    "Exercise 10"
   ]
  },
  {
   "cell_type": "code",
   "execution_count": 20,
   "id": "6a1383a8-6fb8-4a75-ac7e-9b1e86c57e03",
   "metadata": {},
   "outputs": [
    {
     "name": "stdout",
     "output_type": "stream",
     "text": [
      "[(1, 'hello'), (2, 'world')]\n"
     ]
    },
    {
     "data": {
      "text/plain": [
       "{'s': {1, 2}, 's2': {'hello', 'world'}}"
      ]
     },
     "execution_count": 20,
     "metadata": {},
     "output_type": "execute_result"
    }
   ],
   "source": [
    "s2 = {\"hello\", \"world\"}\n",
    "# Operation 1\n",
    "z = zip(s,s2)\n",
    "print(list(z))\n",
    "#Operation 2\n",
    "s_dict = {\n",
    "    \"s\":s,\n",
    "    \"s2\":s2\n",
    "}\n",
    "s_dict"
   ]
  }
 ],
 "metadata": {
  "kernelspec": {
   "display_name": "Python 3 (ipykernel)",
   "language": "python",
   "name": "python3"
  },
  "language_info": {
   "codemirror_mode": {
    "name": "ipython",
    "version": 3
   },
   "file_extension": ".py",
   "mimetype": "text/x-python",
   "name": "python",
   "nbconvert_exporter": "python",
   "pygments_lexer": "ipython3",
   "version": "3.9.13"
  }
 },
 "nbformat": 4,
 "nbformat_minor": 5
}
