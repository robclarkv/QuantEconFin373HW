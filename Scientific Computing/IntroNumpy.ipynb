{
 "cells": [
  {
   "attachments": {},
   "cell_type": "markdown",
   "metadata": {},
   "source": [
    "## Introduction to Numpy"
   ]
  },
  {
   "attachments": {},
   "cell_type": "markdown",
   "metadata": {},
   "source": [
    "### Exercise 1\n",
    "Try indexing into another element of your choice from the 3-dimensional array.\n"
   ]
  },
  {
   "cell_type": "code",
   "execution_count": null,
   "metadata": {
    "vscode": {
     "languageId": "plaintext"
    }
   },
   "outputs": [],
   "source": [
    "import numpy as np\n",
    "x_3d = np.array([[[1, 2, 3], [4, 5, 6]], [[10, 20, 30], [40, 50, 60]]])\n",
    "# Now indexing the 1 element of the 1 elememnt of the element\n",
    "x_3d[0,1,1]\n",
    "# Which would be 5!"
   ]
  },
  {
   "attachments": {},
   "cell_type": "markdown",
   "metadata": {},
   "source": [
    "### Exercise 2\n",
    "Look at the 2-dimensional array x_2d.\n",
    "\n",
    "Does the inner-most index correspond to rows or columns? What does the outer-most index correspond to?\n",
    "\n",
    "Write your thoughts."
   ]
  },
  {
   "cell_type": "code",
   "execution_count": null,
   "metadata": {
    "vscode": {
     "languageId": "plaintext"
    }
   },
   "outputs": [],
   "source": [
    "# we have x_2d\n",
    "x_2d = np.array([[1, 2, 3], [4, 5, 6], [7, 8, 9]])\n"
   ]
  },
  {
   "attachments": {},
   "cell_type": "markdown",
   "metadata": {},
   "source": [
    "The inner-most index in a 2-dimensional array corresponds to rows. The outer-most index corresponds to columns.\n",
    "\n",
    "In other words, when indexing into a 2-dimensional array, the first index refers to the row and the second index refers to the column.\n",
    "\n",
    "For example, if we have a 2-dimensional array x_2d with shape (m, n) where m is the number of rows and n is the number of columns,\n",
    "\n",
    " we can access the element at the i-th row and j-th column using the notation x_2d[i, j]."
   ]
  },
  {
   "attachments": {},
   "cell_type": "markdown",
   "metadata": {},
   "source": [
    "### Exercise 3\n",
    "What would you do to extract the array [[5, 6], [50, 60]]?"
   ]
  },
  {
   "cell_type": "code",
   "execution_count": null,
   "metadata": {
    "vscode": {
     "languageId": "plaintext"
    }
   },
   "outputs": [],
   "source": [
    "x_3d = np.array([[[1, 2, 3], [4, 5, 6]], [[10, 20, 30], [40, 50, 60]]])\n",
    "print(x_3d[:, 1, 1:]) \n"
   ]
  },
  {
   "attachments": {},
   "cell_type": "markdown",
   "metadata": {},
   "source": [
    "### Exercise 4\n",
    "Do you recall what multiplication by an integer did for lists?\n",
    "\n",
    "How does this differ?"
   ]
  },
  {
   "cell_type": "code",
   "execution_count": null,
   "metadata": {
    "vscode": {
     "languageId": "plaintext"
    }
   },
   "outputs": [],
   "source": [
    "x = [1,1,1,1]\n",
    "y = np.ones((2,2))\n",
    "print(y*2)\n",
    "print(x*2)"
   ]
  },
  {
   "attachments": {},
   "cell_type": "markdown",
   "metadata": {},
   "source": [
    "The difference between multiplication by an integer for lists and arrays is that when a list is multiplied by an integer, a new list is created with that many copies of the original list concatenated together.\n",
    "\n",
    "On the other hand, when a NumPy array is multiplied by an integer, it performs element-wise multiplication. This means that each element in the array is multiplied by the integer. "
   ]
  },
  {
   "attachments": {},
   "cell_type": "markdown",
   "metadata": {},
   "source": [
    "### Exercise 5\n",
    "Let’s revisit a bond pricing example we saw in Control flow.\n",
    "\n",
    "..."
   ]
  },
  {
   "cell_type": "code",
   "execution_count": null,
   "metadata": {
    "vscode": {
     "languageId": "plaintext"
    }
   },
   "outputs": [],
   "source": []
  }
 ],
 "metadata": {
  "language_info": {
   "name": "python"
  },
  "orig_nbformat": 4
 },
 "nbformat": 4,
 "nbformat_minor": 2
}
