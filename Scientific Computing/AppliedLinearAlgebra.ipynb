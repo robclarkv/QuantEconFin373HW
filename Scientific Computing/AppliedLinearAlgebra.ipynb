{
 "cells": [
  {
   "attachments": {},
   "cell_type": "markdown",
   "metadata": {},
   "source": [
    "## Applied Linear Algebra\n",
    "### Exercise 1\n",
    "Alice is a stock broker who owns two types of assets: A and B. She owns 100 units of asset A and 50 units of asset B. The current interest rate is 5%. Each of the A assets have a remaining duration of 6 years and pay $1500 each year, while each of the B assets have a remaining duration of 4 years and pay $500 each year. Alice would like to retire if she can sell her assets for more than $500,000. Use vector addition, scalar multiplication, and dot products to determine whether she can retire."
   ]
  },
  {
   "cell_type": "code",
   "execution_count": null,
   "metadata": {},
   "outputs": [],
   "source": [
    "nA = 100\n",
    "nB = 50\n",
    "nassets = np.array([nA, nB])\n",
    "\n",
    "i = 0.05\n",
    "durationA = 6\n",
    "durationB = 4\n",
    "# Compute remaining duration\n",
    "d = np.array([durationA,durationB])\n",
    "\n",
    "# Do your computations here\n",
    "pA = 1500\n",
    "pB = 500\n",
    "\n",
    "# Compute annual payments\n",
    "pays = np.array([pA,pB])\n",
    "\n",
    "# Compute price / present value\n",
    "pv = pays * (1/np.power(1 + i,d))\n",
    "\n",
    "# Compute total present value\n",
    "total_pv = np.dot(pv,nassets)\n",
    "\n",
    "# Check if Alice can retire\n",
    "if total_pv > 500000:\n",
    "    print(\"Alice can retire\")\n",
    "else:\n",
    "   print(\"Alice cannot retire yet\")\n",
    "\n",
    "#Answer : Alice cannot retire yet\n"
   ]
  },
  {
   "attachments": {},
   "cell_type": "markdown",
   "metadata": {},
   "source": [
    "### Exercise 2\n",
    "Which of the following operations will work and which will create errors because of size issues?\n",
    "\n",
    "Test out your intuitions in the code cell below\n",
    "..."
   ]
  },
  {
   "attachments": {},
   "cell_type": "markdown",
   "metadata": {},
   "source": [
    "x1 @ x2:  No<br>\n",
    "x2 @ x1:  No<br>\n",
    "x2 @ x3:  yes<br>\n",
    "x3 @ x2:  No<br>\n",
    "x1 @ x3:  yes<br>\n",
    "x4 @ y1:  yes<br>\n",
    "x4 @ y2:  No<br>\n",
    "y1 @ x4:  No<br>\n",
    "y2 @ x4:  yes<br>"
   ]
  },
  {
   "attachments": {},
   "cell_type": "markdown",
   "metadata": {},
   "source": [
    "### Exercise 3\n",
    "Compare the distribution above to the final values of a long simulation.\n",
    "\n",
    "If you multiply the distribution by 1,000,000 (the number of workers), do you get (roughly) the same number as the simulation?"
   ]
  },
  {
   "cell_type": "code",
   "execution_count": null,
   "metadata": {},
   "outputs": [],
   "source": [
    "dist = np.array([0.66666667, 0.33333333])\n",
    "1000000 * dist\n",
    "# array([666666.67, 333333.33])\n"
   ]
  },
  {
   "attachments": {},
   "cell_type": "markdown",
   "metadata": {},
   "source": [
    "As shown in the plot_simulation, we get roughly the same number by multiplying 1,000,000 by the dist. "
   ]
  },
  {
   "cell_type": "markdown",
   "metadata": {},
   "source": []
  }
 ],
 "metadata": {
  "language_info": {
   "name": "python"
  },
  "orig_nbformat": 4
 },
 "nbformat": 4,
 "nbformat_minor": 2
}
