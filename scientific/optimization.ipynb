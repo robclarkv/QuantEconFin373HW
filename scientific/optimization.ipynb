{
  "cells": [
    {
      "attachments": {},
      "cell_type": "markdown",
      "id": "bcd7289e",
      "metadata": {
        "id": "bcd7289e"
      },
      "source": [
        "### Exercise 1\n",
        "\n",
        "Try solving the constrained maximization problem by hand via the Lagrangian method.\n",
        "\n",
        "Is it surprising that the demand for bananas is unaffected by the change in apple prices?\n",
        "\n",
        "Why might this be?\n",
        "\n"
      ]
    },
    {
      "attachments": {},
      "cell_type": "markdown",
      "id": "0e839be0",
      "metadata": {},
      "source": [
        "It could be the case that bananas and apples are not perfect substitutes and have different uses, such as nutritional value, taste, etc. So a change in the price of apples might not affect the demand for bananas.\n",
        "\n",
        "Another possibility is that the change in apple prices is compensated by changes in the consumer's income or other factors, such as interest rates or other prices, which may lead the demand for bananas to remain unchanged."
      ]
    },
    {
      "cell_type": "markdown",
      "id": "69ab4a0e",
      "metadata": {
        "id": "69ab4a0e"
      },
      "source": [
        "### Exercise 2\n",
        "\n",
        "Using a similar approach to that of the apples/bananas example above, solve for the optimal\n",
        "basket of potato chips and chocolate bars when `W = 10`, `p_P = 1`, and `p_C = 2`."
      ]
    },
    {
      "cell_type": "code",
      "execution_count": 8,
      "id": "b5d5de2f",
      "metadata": {
        "colab": {
          "base_uri": "https://localhost:8080/"
        },
        "hide-output": false,
        "id": "b5d5de2f",
        "outputId": "6a044017-3482-496e-d760-850e8848b9d7",
        "vscode": {
          "languageId": "python3"
        }
      },
      "outputs": [
        {
          "name": "stdout",
          "output_type": "stream",
          "text": [
            "Looking in indexes: https://pypi.org/simple, https://us-python.pkg.dev/colab-wheels/public/simple/\n",
            "Requirement already satisfied: scipy in /usr/local/lib/python3.8/dist-packages (1.7.3)\n",
            "Requirement already satisfied: numpy<1.23.0,>=1.16.5 in /usr/local/lib/python3.8/dist-packages (from scipy) (1.21.6)\n"
          ]
        }
      ],
      "source": [
        "W = 10\n",
        "p_P = 1\n",
        "p_C = 2\n",
        "\n",
        "# Your code here\n",
        "! pip install scipy\n",
        "\n",
        "import numpy as np\n",
        "import matplotlib.pyplot as plt\n",
        "%matplotlib inline\n",
        "\n",
        "\n",
        "from scipy.optimize import minimize_scalar\n",
        "\n",
        "def objective(P, W = 10, p_C = 2):\n",
        "\n",
        "  A = A_bc(B, W, pa)\n",
        "  return -U(A,B)\n",
        "\n",
        "  result = minimize_scalar(objectve)\n",
        "  optimal_B = result.x\n",
        "  optimal_A = A_bc(optimal_B, 20, 2)\n",
        "  optimual_U = U(optimal_A, optimal_B)\n",
        "\n",
        "  print('The optimal U is ', optimual_U)\n",
        "  print('and was found at (A,B) =', (optimal_A, optimal_B))"
      ]
    },
    {
      "cell_type": "markdown",
      "id": "b9c3186a",
      "metadata": {
        "id": "b9c3186a"
      },
      "source": [
        "What is the optimal basket if we expand the budget constraint to have `W = 50`?"
      ]
    },
    {
      "cell_type": "code",
      "execution_count": 9,
      "id": "f966c6fb",
      "metadata": {
        "hide-output": false,
        "id": "f966c6fb",
        "vscode": {
          "languageId": "python3"
        }
      },
      "outputs": [],
      "source": [
        "# Your code here\n",
        "\n",
        "def objective(P, W = 50, p_C = 2):\n",
        "\n",
        "  A = A_bc(B, W, pa)\n",
        "  return -U(A,B)\n",
        "\n",
        "  result = minimize_scalar(objectve)\n",
        "  optimal_B = result.x\n",
        "  optimal_A = A_bc(optimal_B, 20, 2)\n",
        "  optimual_U = U(optimal_A, optimal_B)\n",
        "\n",
        "  print('The optimal U is ', optimual_U)\n",
        "  print('and was found at (A,B) =', (optimal_A, optimal_B))"
      ]
    },
    {
      "cell_type": "markdown",
      "id": "ba080fa8",
      "metadata": {
        "id": "ba080fa8"
      },
      "source": [
        "What is the optimal basket if we expand the budget constraint to have `W = 150`?"
      ]
    },
    {
      "cell_type": "code",
      "execution_count": null,
      "id": "fda8b9bd",
      "metadata": {
        "hide-output": false,
        "id": "fda8b9bd",
        "vscode": {
          "languageId": "python3"
        }
      },
      "outputs": [],
      "source": [
        "# Your code here\n",
        "\n",
        "def objective(P, W = 150, p_C = 2):\n",
        "\n",
        "  A = A_bc(B, W, pa)\n",
        "  return -U(A,B)\n",
        "\n",
        "  result = minimize_scalar(objectve)\n",
        "  optimal_B = result.x\n",
        "  optimal_A = A_bc(optimal_B, 20, 2)\n",
        "  optimual_U = U(optimal_A, optimal_B)\n",
        "\n",
        "  print('The optimal U is ', optimual_U)\n",
        "  print('and was found at (A,B) =', (optimal_A, optimal_B))"
      ]
    },
    {
      "cell_type": "markdown",
      "id": "e1cee306",
      "metadata": {
        "id": "e1cee306"
      },
      "source": [
        "You can no longer assume that the `A_bc` function is always binding, as we did before, and will need to check results more carefully.\n",
        "\n",
        "While not required, you can take this opportunity to play around with other scipy functions such as Scipy optimize [https://docs.scipy.org/doc/scipy/reference/tutorial/optimize.html](https://docs.scipy.org/doc/scipy/reference/tutorial/optimize.html).\n",
        "\n",
        "([back to text](#dir3-5-2))"
      ]
    }
  ],
  "metadata": {
    "colab": {
      "provenance": []
    },
    "date": 1673670630.1537466,
    "filename": "optimization.md",
    "kernelspec": {
      "display_name": "Python",
      "language": "python3",
      "name": "python3"
    },
    "title": "Optimization"
  },
  "nbformat": 4,
  "nbformat_minor": 5
}
