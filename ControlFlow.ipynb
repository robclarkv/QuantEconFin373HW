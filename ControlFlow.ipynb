{
 "cells": [
  {
   "cell_type": "markdown",
   "id": "1bdb4326-ece6-4c9b-a9dd-90cb4a02d141",
   "metadata": {},
   "source": [
    "Excercise 1\n",
    "x = to 100/(1+r)^10\n",
    "r=0.05\n",
    "x = present value\n",
    "Solve for x"
   ]
  },
  {
   "cell_type": "code",
   "execution_count": 1,
   "id": "939aee3c-e873-43f8-987b-7c1c4b034efb",
   "metadata": {},
   "outputs": [
    {
     "name": "stdout",
     "output_type": "stream",
     "text": [
      "You should be willing to pay: 61.39132535407592\n"
     ]
    }
   ],
   "source": [
    "print(\"You should be willing to pay:\",100/pow(1.05,10))"
   ]
  },
  {
   "cell_type": "markdown",
   "id": "3ffe6606-50ac-4e18-a71e-0a405c6fd608",
   "metadata": {},
   "source": [
    "Excercise 2"
   ]
  },
  {
   "cell_type": "code",
   "execution_count": 2,
   "id": "5ba4dc5e-2ffc-4d60-b30f-911dd55491ac",
   "metadata": {},
   "outputs": [
    {
     "name": "stdout",
     "output_type": "stream",
     "text": [
      "3\n"
     ]
    }
   ],
   "source": [
    "x = 0\n",
    "\n",
    "if x > 0:\n",
    "    print(\"1\")\n",
    "    print(\"2\")\n",
    "print(\"3\")"
   ]
  },
  {
   "cell_type": "code",
   "execution_count": 3,
   "id": "b769dbb4-3de2-4f4e-ac8a-c026e87f91ef",
   "metadata": {},
   "outputs": [
    {
     "name": "stdout",
     "output_type": "stream",
     "text": [
      "2\n",
      "3\n"
     ]
    }
   ],
   "source": [
    "x = 0\n",
    "\n",
    "if x > 0:\n",
    "    print(\"1\")\n",
    "print(\"2\") # changed the indentation\n",
    "print(\"3\")"
   ]
  },
  {
   "cell_type": "markdown",
   "id": "bfc114b8-3a6a-4c7f-a21c-36e6166917b0",
   "metadata": {},
   "source": [
    "Excercise 3"
   ]
  },
  {
   "cell_type": "code",
   "execution_count": 4,
   "id": "f75e16f9-a081-40eb-afc8-0de7bbada2d1",
   "metadata": {},
   "outputs": [
    {
     "name": "stdout",
     "output_type": "stream",
     "text": [
      "Good afternoon\n"
     ]
    }
   ],
   "source": [
    "import datetime\n",
    "current_time = datetime.datetime.now()\n",
    "\n",
    "if current_time.hour > 12:\n",
    "    print(\"Good afternoon\")"
   ]
  },
  {
   "cell_type": "markdown",
   "id": "ad994c28-4d99-46c4-8747-1da4d826c621",
   "metadata": {},
   "source": [
    "Excercise 4"
   ]
  },
  {
   "cell_type": "code",
   "execution_count": 5,
   "id": "de87b288-2cee-4311-a06f-74dc08c68658",
   "metadata": {},
   "outputs": [
    {
     "name": "stdout",
     "output_type": "stream",
     "text": [
      "x = 0.21168502609292594\n",
      "0.21168502609292594<0.5\n"
     ]
    }
   ],
   "source": [
    "import numpy as np\n",
    "x = np.random.random()\n",
    "print(f\"x = {x}\")\n",
    "\n",
    "if x > 0.5:\n",
    "    print(\"{}>0.5\".format(x))\n",
    "elif x < 0.5:\n",
    "    print(\"{}<0.5\".format(x))"
   ]
  },
  {
   "cell_type": "markdown",
   "id": "3bf355cc-4dd6-4e35-96f8-d71ab3dada36",
   "metadata": {},
   "source": [
    "Excercise 5"
   ]
  },
  {
   "cell_type": "code",
   "execution_count": 6,
   "id": "033b4ffc-782e-43f9-9ea4-37a5b8921350",
   "metadata": {},
   "outputs": [
    {
     "name": "stdout",
     "output_type": "stream",
     "text": [
      "True\n"
     ]
    }
   ],
   "source": [
    "# Discount rate\n",
    "r = 0.05\n",
    "\n",
    "# High school wage\n",
    "w_hs = 40_000\n",
    "\n",
    "# College wage and cost of college\n",
    "c_college = 5_000\n",
    "w_college = 50_000\n",
    "\n",
    "#NPV variables\n",
    "npv_hsworker = 0\n",
    "npv_collegecost = 0\n",
    "npv_collegeworker = 0\n",
    "\n",
    "# Compute npv of being a hs worker\n",
    "for x in range(41):\n",
    "    npv_hsworker += (1/(1+r))*w_hs\n",
    "# Compute npv of attending college\n",
    "for x in range(5):\n",
    "    npv_collegecost += (1/(1+r))*c_college\n",
    "# Compute npv of being a college worker\n",
    "for x in range(37):\n",
    "    npv_collegeworker += (1/(1+r))*w_college\n",
    "# Is npv_collegeworker - npv_collegecost > npv_hsworker\n",
    "print(npv_collegeworker - npv_collegecost > npv_hsworker)"
   ]
  },
  {
   "cell_type": "markdown",
   "id": "acc8c8d0-c325-424a-bf85-538f3bcb2357",
   "metadata": {},
   "source": [
    "Excercise 6"
   ]
  },
  {
   "cell_type": "code",
   "execution_count": 7,
   "id": "06b43570-ecb1-452c-94ed-23f6c49a9293",
   "metadata": {},
   "outputs": [
    {
     "name": "stdout",
     "output_type": "stream",
     "text": [
      "Phoenix is in Arizona\n",
      "Austin is in Texas\n",
      "San Diego is in California\n",
      "New York is in New York\n"
     ]
    }
   ],
   "source": [
    "cities = [\"Phoenix\", \"Austin\", \"San Diego\", \"New York\"]\n",
    "states = [\"Arizona\", \"Texas\", \"California\", \"New York\"]\n",
    "\n",
    "for c, s in zip(cities, states):\n",
    "    print(f\"{c} is in {s}\")"
   ]
  },
  {
   "cell_type": "markdown",
   "id": "200d9107-ab2a-4d67-8705-eae3f8d929df",
   "metadata": {},
   "source": [
    "Excercise 7"
   ]
  },
  {
   "cell_type": "code",
   "execution_count": 8,
   "id": "75893996-ebae-46da-a4f7-8936b31a32fd",
   "metadata": {},
   "outputs": [
    {
     "name": "stdout",
     "output_type": "stream",
     "text": [
      "It would take 11 months.\n"
     ]
    }
   ],
   "source": [
    "# Define cost of teaching python\n",
    "cost = 25_000\n",
    "r = 0.01\n",
    "\n",
    "# Per month value\n",
    "added_value = 2500\n",
    "\n",
    "n_months = 0\n",
    "total_npv = 0.0\n",
    "\n",
    "# Put condition below here\n",
    "while total_npv < 25000: # (replace False with your condition here)\n",
    "    n_months = n_months + 1  # Increment how many months they've worked\n",
    "\n",
    "    # Increase total_npv\n",
    "    total_npv += added_value/pow(1+r,n_months)\n",
    "print(f\"It would take {n_months} months.\")"
   ]
  },
  {
   "cell_type": "markdown",
   "id": "e9961e95-4dba-42af-8d38-1b40224a977d",
   "metadata": {},
   "source": [
    "Excercise 8"
   ]
  },
  {
   "cell_type": "code",
   "execution_count": 9,
   "id": "6b4dbeb1-72c0-4337-bb9f-d71681ff1108",
   "metadata": {},
   "outputs": [
    {
     "name": "stdout",
     "output_type": "stream",
     "text": [
      "The number is at index 746.\n"
     ]
    }
   ],
   "source": [
    "x = np.random.rand(10_000)\n",
    "\n",
    "for i in range(len(x)):\n",
    "    if x[i] > 0.999:\n",
    "        print(f\"The number is at index {i}.\")\n",
    "        break\n",
    "    else:\n",
    "        i += 1"
   ]
  },
  {
   "cell_type": "markdown",
   "id": "8b29ecb2-bf25-46c0-8578-689ca08ea4db",
   "metadata": {},
   "source": [
    "Excercise 9"
   ]
  },
  {
   "cell_type": "code",
   "execution_count": 10,
   "id": "5e763d75-6073-4705-8c2d-ecfaecdf804f",
   "metadata": {},
   "outputs": [
    {
     "name": "stdout",
     "output_type": "stream",
     "text": [
      "3775.9313268350393\n"
     ]
    }
   ],
   "source": [
    "x = np.random.rand(10_000)\n",
    "total_x = 0\n",
    "\n",
    "for value in x:\n",
    "    if value < 0.5:\n",
    "        continue\n",
    "    else:\n",
    "        total_x += value\n",
    "        \n",
    "print(total_x)"
   ]
  },
  {
   "cell_type": "markdown",
   "id": "d8b824f9-fd3a-4518-a55d-87c5a36d2286",
   "metadata": {},
   "source": [
    "Excercise 10"
   ]
  },
  {
   "cell_type": "code",
   "execution_count": 11,
   "id": "daf5dfe0-2599-47bb-b5b9-627f51759822",
   "metadata": {},
   "outputs": [
    {
     "name": "stdout",
     "output_type": "stream",
     "text": [
      "Phoenix is in Arizona\n",
      "Austin is in Texas\n",
      "San Diego is in California\n",
      "New York is in New York\n"
     ]
    }
   ],
   "source": [
    "cities = [\"Phoenix\", \"Austin\", \"San Diego\", \"New York\"]\n",
    "states = [\"Arizona\", \"Texas\", \"California\", \"New York\"]\n",
    "\n",
    "\n",
    "comp = [print(f\"{c} is in {s}\") for c,s in zip(cities, states)]"
   ]
  },
  {
   "cell_type": "code",
   "execution_count": null,
   "id": "ea44bd9d-32ce-4818-8500-a14a671b8daa",
   "metadata": {},
   "outputs": [],
   "source": []
  }
 ],
 "metadata": {
  "kernelspec": {
   "display_name": "Python 3 (ipykernel)",
   "language": "python",
   "name": "python3"
  },
  "language_info": {
   "codemirror_mode": {
    "name": "ipython",
    "version": 3
   },
   "file_extension": ".py",
   "mimetype": "text/x-python",
   "name": "python",
   "nbconvert_exporter": "python",
   "pygments_lexer": "ipython3",
   "version": "3.9.13"
  }
 },
 "nbformat": 4,
 "nbformat_minor": 5
}
