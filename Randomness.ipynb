{
 "cells": [
  {
   "attachments": {},
   "cell_type": "markdown",
   "metadata": {},
   "source": [
    "Excersice 1"
   ]
  },
  {
   "attachments": {},
   "cell_type": "markdown",
   "metadata": {},
   "source": [
    "One way to check whether the numpy random numbers approximate the mean and variance of the Uniform(0, 1) distribution is to generate a large sample of random numbers using the numpy function, and then calculate the sample mean and variance of the sample. The sample mean should be close to the population mean of 1/2 and the sample variance should be close to the population variance of 1/12, if the numpy random numbers are a good approximation of the Uniform(0, 1) distribution.\n",
    "\n",
    "We can use the numpy function numpy.random.uniform(0, 1, size=n) or numpy.random.rand(size=n) to generate a sample of random numbers with a size of n, then we can use the numpy.mean() and numpy.var() functions to calculate the sample mean and variance, respectively."
   ]
  },
  {
   "cell_type": "code",
   "execution_count": null,
   "metadata": {},
   "outputs": [],
   "source": [
    "import numpy as np\n",
    "import matplotlib.pyplot as plt\n",
    "%matplotlib inline"
   ]
  },
  {
   "cell_type": "code",
   "execution_count": null,
   "metadata": {},
   "outputs": [],
   "source": [
    "draws_10000 = np.random.rand(0,1,size=10000)\n",
    "plt.hist(draws_10000)\n",
    "plt.title('Histogram of uniform Dist with size=10000')"
   ]
  },
  {
   "cell_type": "code",
   "execution_count": null,
   "metadata": {},
   "outputs": [],
   "source": [
    "draws_10000.mean()"
   ]
  },
  {
   "cell_type": "code",
   "execution_count": null,
   "metadata": {},
   "outputs": [],
   "source": [
    "draws_10000.var()"
   ]
  },
  {
   "attachments": {},
   "cell_type": "markdown",
   "metadata": {},
   "source": [
    "Excersice 2"
   ]
  },
  {
   "cell_type": "code",
   "execution_count": null,
   "metadata": {},
   "outputs": [],
   "source": [
    "!pip install quantecon"
   ]
  },
  {
   "cell_type": "code",
   "execution_count": null,
   "metadata": {},
   "outputs": [],
   "source": [
    "import quantecon as qe\n",
    "# 1. State description\n",
    "state_values = [\"repaying\", \"delinquency\", \"default\"]\n",
    "\n",
    "# 2. Transition probabilities: encoded in a matrix (2d-array) where element [i, j]\n",
    "# is the probability of moving from state i to state j\n",
    "P = np.array([[0.85, 0.1, 0.05], [0.25, 0.6, 0.15], [0, 0, 1]])\n",
    "\n",
    "# 3. Initial distribution: assume loans start in repayment\n",
    "x0 = np.array([1, 0, 0])\n",
    "\n",
    "mc = qe.markov.MarkovChain(P, state_values)\n",
    "mc.stationary_distributions"
   ]
  },
  {
   "attachments": {},
   "cell_type": "markdown",
   "metadata": {},
   "source": [
    "The transition probabilities in this example lead to the stationary distribution of [0,0,1] because of the structure of the transition probability matrix P and the properties of Markov chains. The matrix P has the structure:\n",
    "\n",
    "P = [[0.85, 0.1, 0.05], [0.25, 0.6, 0.15], [0, 0, 1]]\n",
    "\n",
    "The last row of the matrix P is [0, 0, 1], which means that the probability of moving from the state \"default\" to any other state is 0. In other words, once a loan is in default, it will always remain in default. This is reflected in the stationary distribution [0,0,1] where the probability of being in the \"default\" state is 1, and the probabilities of being in the other states (repaying and delinquency) is 0.\n",
    "\n",
    "Additionally, the other transition probabilities in P also support this outcome. For example, the probability of moving from the \"repaying\" state to the \"default\" state is 0.05, and the probability of moving from the \"delinquency\" state to the \"default\" state is 0.15, which are relatively low. This means that the system tends to stay in the repaying or delinquency states and moves to default only with a relatively low probability.\n",
    "\n",
    "In summary, the transition probabilities in this example lead to the stationary distribution of [0,0,1] because once a loan is in the default state, it will always remain in default and the transition probabilities from other states to default are relatively low."
   ]
  },
  {
   "attachments": {},
   "cell_type": "markdown",
   "metadata": {},
   "source": [
    "Excersice 3"
   ]
  },
  {
   "attachments": {},
   "cell_type": "markdown",
   "metadata": {},
   "source": [
    "To represent this problem as a Markov chain, we can define the following three components:\n",
    "\n",
    "State description: We can have two states: \"employed\" and \"unemployed\"\n",
    "Transition probabilities: We can encode this information in a matrix (2d-array) where element [i, j] is the probability of moving from state i to state j. In this case, the transition matrix would be [[0.95, 0.05], [0.1, 0.9]]\n",
    "Initial distribution: Initially, 90% of the 1,000,000 workers are employed, so the initial distribution would be [0.9, 0.1]\n",
    "To construct an instance of the quantecon MarkovChain, we can use the following code:"
   ]
  },
  {
   "cell_type": "code",
   "execution_count": null,
   "metadata": {},
   "outputs": [],
   "source": [
    "# define components here\n",
    "state_values_2 = [\"employed\", \"unemployed\"]\n",
    "\n",
    "P_2 = np.array([[0.95, 0.05], [0.1, 0.9]])\n",
    "\n",
    "x0_2= np.array([0.9, 0.1])\n",
    "\n",
    "# construct Markov chain\n",
    "mc_2 = qe.markov.MarkovChain(P_2, state_values_2)\n",
    "\n",
    "\n",
    "# simulate (see docstring for how to do many repetitions of\n",
    "# the simulation in one function call)\n",
    "# uncomment the lines below and fill in the blanks\n",
    "\n",
    "sim = mc_2.simulate(ts_length=50,init='employed',num_reps=30)\n",
    "fig, ax = plt.subplots(figsize=(10, 8))\n",
    "ax.plot(range(50), sim.T, alpha=0.4)\n",
    "\n"
   ]
  },
  {
   "cell_type": "code",
   "execution_count": null,
   "metadata": {},
   "outputs": [],
   "source": [
    "# Long-run average payment\n",
    "pi = mc_2.stationary_distributions\n",
    "average_payment = pi[0][0]*10 + pi[0][1]*1\n",
    "average_payment"
   ]
  },
  {
   "attachments": {},
   "cell_type": "markdown",
   "metadata": {},
   "source": [
    "Excersice 4"
   ]
  },
  {
   "cell_type": "code",
   "execution_count": null,
   "metadata": {},
   "outputs": [],
   "source": [
    "!pip install scipy"
   ]
  },
  {
   "cell_type": "code",
   "execution_count": null,
   "metadata": {},
   "outputs": [],
   "source": [
    "import scipy.stats as st\n"
   ]
  },
  {
   "cell_type": "code",
   "execution_count": null,
   "metadata": {},
   "outputs": [],
   "source": [
    "def plot_gamma(k, theta, x, ax=None):\n",
    "    if ax is None:\n",
    "        _, ax = plt.subplots()\n",
    "\n",
    "    # scipy refers to the rate parameter beta as a scale parameter\n",
    "    pdf_x = st.gamma(k, scale=theta).pdf(x)\n",
    "    ax.plot(x, pdf_x, label=f\"k = {k}  theta = {theta}\")\n",
    "\n",
    "    return ax\n",
    "\n",
    "fig, ax = plt.subplots(figsize=(10, 6))\n",
    "x = np.linspace(0.1, 20, 130)\n",
    "pdf_normal = st.norm(10, 5.0).pdf(x)\n",
    "ax.plot(x, pdf_normal)\n",
    "plot_gamma(5.3, 2.0, x, ax)\n",
    "plot_gamma(5.0, 2.0, x, ax)\n",
    "ax.legend(['Normal: u = 10, sigma = 5','Gamma: k = 5.3, theta = 2','Gamma: k = 5, theta = 2'])"
   ]
  },
  {
   "attachments": {},
   "cell_type": "markdown",
   "metadata": {},
   "source": [
    "To determine which asset has the highest average returns, we would need to calculate the mean of the payoff distributions for each asset. Using scipy.stats, we can use the mean() function for the normal distribution, and the mean() function for the gamma distribution.\n",
    "\n",
    "To determine which asset has the highest median returns, we would need to calculate the median of the payoff distributions for each asset. Using scipy.stats, we can use the median() function for the normal distribution, and the median() function for the gamma distribution.\n",
    "\n",
    "To determine which asset has the lowest coefficient of variation, we would need to calculate the standard deviation and the mean of the payoff distributions for each asset, and then divide the standard deviation by the mean. Using scipy.stats, we can use the std() function for the normal distribution, and the std() function for the gamma distribution, as well as the mean() function for the normal and gamma distributions.\n",
    "\n",
    "The choice of the asset would depend on the individual's risk preference. If the person is risk-averse, he would choose the asset with the lowest coefficient of variation, as this would provide the most stable returns. On the other hand, if the person is risk-seeking, he would choose the asset with the highest median returns.\n",
    "\n",
    "\n",
    "\n"
   ]
  },
  {
   "cell_type": "code",
   "execution_count": null,
   "metadata": {},
   "outputs": [],
   "source": [
    "pdf_Gamma1 = st.gamma(5.3, scale=2).pdf(x)\n",
    "pdf_Gamma2 = st.gamma(5, scale=2).pdf(x)\n",
    "\n",
    "selection = np.array([[pdf_Gamma1.mean(),pdf_Gamma2.mean(),pdf_normal.mean()],[np.median(pdf_Gamma1),np.median(pdf_Gamma2),np.median(pdf_normal)],[pdf_Gamma1.std()/pdf_Gamma1.mean(),pdf_Gamma2.std()/pdf_Gamma2.mean(),pdf_normal.std()/pdf_normal.mean()]])\n",
    "selection"
   ]
  },
  {
   "attachments": {},
   "cell_type": "markdown",
   "metadata": {},
   "source": [
    "Asset with Gamma_2 dist. with k = 5 and theta = 2 has the highest average return.\n",
    "\n",
    "Asset with normal dist. has the highest median return.\n",
    "\n",
    "Asset with normal dist. has the lowest coefficient of variation return.\n",
    "\n",
    "We choose the asset with Normal Dist has the lowest coefficient of variation return, since we are risk averse."
   ]
  }
 ],
 "metadata": {
  "language_info": {
   "name": "python"
  },
  "orig_nbformat": 4
 },
 "nbformat": 4,
 "nbformat_minor": 2
}
